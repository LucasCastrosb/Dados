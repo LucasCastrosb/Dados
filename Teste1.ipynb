{
  "nbformat": 4,
  "nbformat_minor": 0,
  "metadata": {
    "colab": {
      "provenance": [],
      "authorship_tag": "ABX9TyMC07jlEZJzN2tP8xOfPvYc",
      "include_colab_link": true
    },
    "kernelspec": {
      "name": "python3",
      "display_name": "Python 3"
    },
    "language_info": {
      "name": "python"
    }
  },
  "cells": [
    {
      "cell_type": "markdown",
      "metadata": {
        "id": "view-in-github",
        "colab_type": "text"
      },
      "source": [
        "<a href=\"https://colab.research.google.com/github/LucasCastrosb/Dados/blob/main/Teste1.ipynb\" target=\"_parent\"><img src=\"https://colab.research.google.com/assets/colab-badge.svg\" alt=\"Open In Colab\"/></a>"
      ]
    },
    {
      "cell_type": "markdown",
      "source": [
        "# Estudando coolab\n"
      ],
      "metadata": {
        "id": "G6wmiJhqJdWk"
      }
    },
    {
      "cell_type": "code",
      "source": [
        "frase = \"uma vez brasileiro, sempre brasileiro\"\n",
        "frase[5]"
      ],
      "metadata": {
        "colab": {
          "base_uri": "https://localhost:8080/",
          "height": 35
        },
        "id": "4YRFzozZJhhM",
        "outputId": "ce736bfb-2143-4f4b-ff95-fea9c8036c49"
      },
      "execution_count": null,
      "outputs": [
        {
          "output_type": "execute_result",
          "data": {
            "text/plain": [
              "'e'"
            ],
            "application/vnd.google.colaboratory.intrinsic+json": {
              "type": "string"
            }
          },
          "metadata": {},
          "execution_count": 2
        }
      ]
    },
    {
      "cell_type": "code",
      "source": [
        "frase = \"uma vez brasileiro, sempre brasileiro\"\n",
        "frase[5:15]"
      ],
      "metadata": {
        "colab": {
          "base_uri": "https://localhost:8080/",
          "height": 35
        },
        "id": "9L4a0zAgO3B1",
        "outputId": "f47e16f3-605c-4a9a-966e-08d6adf97d7f"
      },
      "execution_count": null,
      "outputs": [
        {
          "output_type": "execute_result",
          "data": {
            "text/plain": [
              "'ez brasile'"
            ],
            "application/vnd.google.colaboratory.intrinsic+json": {
              "type": "string"
            }
          },
          "metadata": {},
          "execution_count": 4
        }
      ]
    },
    {
      "cell_type": "code",
      "source": [],
      "metadata": {
        "id": "_61wnOR7Pjnm"
      },
      "execution_count": null,
      "outputs": []
    },
    {
      "cell_type": "code",
      "source": [
        "frase = \"uma vez brasileiro, sempre brasileiro\"\n",
        "frase[::3]"
      ],
      "metadata": {
        "colab": {
          "base_uri": "https://localhost:8080/",
          "height": 35
        },
        "outputId": "bb4c9c0d-3c1d-4928-90cf-dd1d1ce3a9ef",
        "id": "jHa9s1tePkuF"
      },
      "execution_count": null,
      "outputs": [
        {
          "output_type": "execute_result",
          "data": {
            "text/plain": [
              "'u zrii,erbseo'"
            ],
            "application/vnd.google.colaboratory.intrinsic+json": {
              "type": "string"
            }
          },
          "metadata": {},
          "execution_count": 5
        }
      ]
    },
    {
      "cell_type": "code",
      "source": [
        "print(expr)"
      ],
      "metadata": {
        "colab": {
          "base_uri": "https://localhost:8080/"
        },
        "id": "v5umDkHFSx4q",
        "outputId": "c6dbdf6a-6985-4967-91b4-5a914c551b42"
      },
      "execution_count": null,
      "outputs": [
        {
          "output_type": "stream",
          "name": "stdout",
          "text": [
            "Dados de acesso do cliente Universidade dos Dados\n",
            "\",\n",
            "    \"01/02/2017 \"3345.878.00\" \n",
            "\",\n",
            "    \"02/02/2017 \"6.088.00\" \n",
            "\",\n",
            "    \"03/02/2017 \"645.00\" \n",
            "\",\n",
            "    \"04/02/2017 \"10.876.00\"\n"
          ]
        }
      ]
    },
    {
      "cell_type": "code",
      "source": [
        "expr = '''Dados de acesso do cliente Universidade dos Dados\n",
        "01/02/2017 \"3345.878.00\"\n",
        "02/02/2017 \"6.088.00\"\n",
        "03/02/2017 \"645.00\"\n",
        "04/02/2017 \"10.876.00\"'''"
      ],
      "metadata": {
        "id": "NBHrskZ4bTJt"
      },
      "execution_count": null,
      "outputs": []
    },
    {
      "cell_type": "code",
      "source": [
        "del expr"
      ],
      "metadata": {
        "id": "OKxWC1t2bXvH"
      },
      "execution_count": null,
      "outputs": []
    },
    {
      "cell_type": "code",
      "source": [
        "inicio = expr.find('\"') + 1\n",
        "print(inicio)"
      ],
      "metadata": {
        "colab": {
          "base_uri": "https://localhost:8080/"
        },
        "id": "zYageH9nb6er",
        "outputId": "1589f870-7a7c-4bfa-82d3-0ba832dda291"
      },
      "execution_count": null,
      "outputs": [
        {
          "output_type": "stream",
          "name": "stdout",
          "text": [
            "62\n"
          ]
        }
      ]
    },
    {
      "cell_type": "code",
      "source": [
        "fim = expr.find('.00\",inicio')\n"
      ],
      "metadata": {
        "id": "N1l9f2hXcKts"
      },
      "execution_count": null,
      "outputs": []
    },
    {
      "cell_type": "code",
      "source": [
        "expr[inicio:fim]"
      ],
      "metadata": {
        "colab": {
          "base_uri": "https://localhost:8080/",
          "height": 35
        },
        "id": "jFPECYHppHjn",
        "outputId": "f9240771-ddc5-4778-aee4-ba6d1e036913"
      },
      "execution_count": null,
      "outputs": [
        {
          "output_type": "execute_result",
          "data": {
            "text/plain": [
              "'3345.878.00\"\\n02/02/2017 \"6.088.00\"\\n03/02/2017 \"645.00\"\\n04/02/2017 \"10.876.00'"
            ],
            "application/vnd.google.colaboratory.intrinsic+json": {
              "type": "string"
            }
          },
          "metadata": {},
          "execution_count": 29
        }
      ]
    },
    {
      "cell_type": "code",
      "source": [
        "teste"
      ],
      "metadata": {
        "id": "SrIH4tPasq9O"
      },
      "execution_count": null,
      "outputs": []
    },
    {
      "cell_type": "code",
      "source": [],
      "metadata": {
        "id": "9Nd8x6hetFlM"
      },
      "execution_count": null,
      "outputs": []
    },
    {
      "cell_type": "markdown",
      "source": [
        "# teste 2\n"
      ],
      "metadata": {
        "id": "sgzcR5PUs8eS"
      }
    },
    {
      "cell_type": "code",
      "source": [
        "def soma(a,b):\n",
        "  return (a + b)"
      ],
      "metadata": {
        "id": "LBwaf8QstIMO"
      },
      "execution_count": null,
      "outputs": []
    },
    {
      "cell_type": "code",
      "source": [
        "print(soma(10,22))"
      ],
      "metadata": {
        "colab": {
          "base_uri": "https://localhost:8080/"
        },
        "id": "hLli2N3duURe",
        "outputId": "dac82c62-8e53-4353-c532-0d808865f9cd"
      },
      "execution_count": null,
      "outputs": [
        {
          "output_type": "stream",
          "name": "stdout",
          "text": [
            "32\n"
          ]
        }
      ]
    },
    {
      "cell_type": "code",
      "source": [
        "def verificacao(a,b):\n",
        "  if a > b:\n",
        "    return a\n",
        "  elif b > a:\n",
        "    return b\n",
        "  else:\n",
        "    return 'Os números são iguais'"
      ],
      "metadata": {
        "id": "eaTw_vE8uXmv"
      },
      "execution_count": null,
      "outputs": []
    },
    {
      "cell_type": "code",
      "source": [
        "verificacao(10,10)"
      ],
      "metadata": {
        "colab": {
          "base_uri": "https://localhost:8080/",
          "height": 35
        },
        "id": "HKppmfBTuybh",
        "outputId": "444e9a0d-4d97-4ba0-c5eb-3da2bb01e042"
      },
      "execution_count": null,
      "outputs": [
        {
          "output_type": "execute_result",
          "data": {
            "text/plain": [
              "'Os números são iguais'"
            ],
            "application/vnd.google.colaboratory.intrinsic+json": {
              "type": "string"
            }
          },
          "metadata": {},
          "execution_count": 37
        }
      ]
    },
    {
      "cell_type": "code",
      "source": [
        "verificacao(10,6)"
      ],
      "metadata": {
        "colab": {
          "base_uri": "https://localhost:8080/"
        },
        "id": "v5FdFO6ou8Zt",
        "outputId": "89e50316-ebb2-4948-d04d-1e3be6dd5952"
      },
      "execution_count": null,
      "outputs": [
        {
          "output_type": "execute_result",
          "data": {
            "text/plain": [
              "10"
            ]
          },
          "metadata": {},
          "execution_count": 38
        }
      ]
    },
    {
      "cell_type": "code",
      "source": [
        "def concat(a,b):\n",
        "  return a + \" \" + b"
      ],
      "metadata": {
        "id": "rS94yRbCvAfh"
      },
      "execution_count": null,
      "outputs": []
    },
    {
      "cell_type": "code",
      "source": [
        "concat('Testando', 'python')"
      ],
      "metadata": {
        "colab": {
          "base_uri": "https://localhost:8080/",
          "height": 35
        },
        "id": "xXMXQEh4vM4h",
        "outputId": "7d8d775e-fe58-4e17-9cf9-6a53ec2c18da"
      },
      "execution_count": null,
      "outputs": [
        {
          "output_type": "execute_result",
          "data": {
            "text/plain": [
              "'Testando python'"
            ],
            "application/vnd.google.colaboratory.intrinsic+json": {
              "type": "string"
            }
          },
          "metadata": {},
          "execution_count": 40
        }
      ]
    },
    {
      "cell_type": "code",
      "source": [
        "def parImpar(num):\n",
        "  mod = num % 2\n",
        "  if mod == 0:\n",
        "    return 'Par'\n",
        "  else:\n",
        "    return 'Impar'"
      ],
      "metadata": {
        "id": "ZdKRlM69vVDR"
      },
      "execution_count": null,
      "outputs": []
    },
    {
      "cell_type": "code",
      "source": [
        "print(parImpar(5))\n",
        "print(parImpar(10))"
      ],
      "metadata": {
        "colab": {
          "base_uri": "https://localhost:8080/"
        },
        "id": "1Bj-w4KvwBNQ",
        "outputId": "c39b107f-db58-4e93-f683-255e7d883009"
      },
      "execution_count": null,
      "outputs": [
        {
          "output_type": "stream",
          "name": "stdout",
          "text": [
            "Impar\n",
            "Par\n"
          ]
        }
      ]
    },
    {
      "cell_type": "code",
      "source": [
        "numero = 10\n",
        "def potencia(numero,pot):\n",
        "  numero = numero **pot\n",
        "  print(numero)"
      ],
      "metadata": {
        "id": "3eT7X0bCwOcC"
      },
      "execution_count": null,
      "outputs": []
    },
    {
      "cell_type": "code",
      "source": [
        "potencia(numero,2)"
      ],
      "metadata": {
        "colab": {
          "base_uri": "https://localhost:8080/"
        },
        "id": "cqLL4aM_wi6P",
        "outputId": "0176c31c-f682-4290-f517-d90d2dd7fe5c"
      },
      "execution_count": null,
      "outputs": [
        {
          "output_type": "stream",
          "name": "stdout",
          "text": [
            "100\n"
          ]
        }
      ]
    },
    {
      "cell_type": "code",
      "source": [
        "print(numero)"
      ],
      "metadata": {
        "colab": {
          "base_uri": "https://localhost:8080/"
        },
        "id": "aJwtCtpywqPw",
        "outputId": "5f35c82b-d92b-4e1e-c5ff-800c1947abbe"
      },
      "execution_count": null,
      "outputs": [
        {
          "output_type": "stream",
          "name": "stdout",
          "text": [
            "10\n"
          ]
        }
      ]
    },
    {
      "cell_type": "code",
      "source": [
        "def pessoa(a):\n",
        "  return a + \" vai a/ao\""
      ],
      "metadata": {
        "id": "lA58mehqwr5_"
      },
      "execution_count": null,
      "outputs": []
    },
    {
      "cell_type": "code",
      "source": [
        "def lugar(b):\n",
        "  return b + \"!!!\"\n"
      ],
      "metadata": {
        "id": "Fn90PYUmxwNi"
      },
      "execution_count": null,
      "outputs": []
    },
    {
      "cell_type": "code",
      "source": [
        "def frase(a,b):\n",
        "  sujeito = pessoa(a)\n",
        "  local = lugar(b)\n",
        "  return sujeito + ' ' + local"
      ],
      "metadata": {
        "id": "VSoNt-nfyLtw"
      },
      "execution_count": null,
      "outputs": []
    },
    {
      "cell_type": "code",
      "source": [
        "frase('Lucas','Estância Velha')"
      ],
      "metadata": {
        "colab": {
          "base_uri": "https://localhost:8080/",
          "height": 35
        },
        "id": "0xyPA_fVyWsS",
        "outputId": "4be62165-7879-445b-9f4e-853a80dbfb2e"
      },
      "execution_count": null,
      "outputs": [
        {
          "output_type": "execute_result",
          "data": {
            "text/plain": [
              "'Lucas vai a/ao Estância Velha!!!'"
            ],
            "application/vnd.google.colaboratory.intrinsic+json": {
              "type": "string"
            }
          },
          "metadata": {},
          "execution_count": 60
        }
      ]
    },
    {
      "cell_type": "code",
      "source": [
        "def maiorNum(a,b):\n",
        "  if a > b:\n",
        "    return a\n",
        "  elif b > a:\n",
        "    return b\n",
        "  else:\n",
        "    return a"
      ],
      "metadata": {
        "id": "oWHr5AY9keUY"
      },
      "execution_count": 1,
      "outputs": []
    },
    {
      "cell_type": "code",
      "source": [
        "maiorNum(22,20)"
      ],
      "metadata": {
        "colab": {
          "base_uri": "https://localhost:8080/"
        },
        "id": "54gQtnWRkvW_",
        "outputId": "afd9836c-2d93-4c76-cc92-2ba41cce9b24"
      },
      "execution_count": 4,
      "outputs": [
        {
          "output_type": "execute_result",
          "data": {
            "text/plain": [
              "22"
            ]
          },
          "metadata": {},
          "execution_count": 4
        }
      ]
    },
    {
      "cell_type": "code",
      "source": [
        "def maiorTres(a,b,c):\n",
        "  aux = maiorNum(a,b)\n",
        "  if aux > c:\n",
        "    return aux\n",
        "  else:\n",
        "    return c"
      ],
      "metadata": {
        "id": "TQtmsGeukyT_"
      },
      "execution_count": 5,
      "outputs": []
    },
    {
      "cell_type": "code",
      "source": [
        "maiorTres(81,80,35)"
      ],
      "metadata": {
        "colab": {
          "base_uri": "https://localhost:8080/"
        },
        "id": "jfbx4-UslGof",
        "outputId": "38415711-8e33-43c6-9ed6-ec36e8742224"
      },
      "execution_count": 9,
      "outputs": [
        {
          "output_type": "execute_result",
          "data": {
            "text/plain": [
              "81"
            ]
          },
          "metadata": {},
          "execution_count": 9
        }
      ]
    },
    {
      "cell_type": "code",
      "source": [
        "linguagens = [\"inglês\", \"português\", \"romano\", \"italiano\"]"
      ],
      "metadata": {
        "id": "fYwyPCYYlKLO"
      },
      "execution_count": 10,
      "outputs": []
    },
    {
      "cell_type": "code",
      "source": [
        "mundiais = [\"Brasil\", 58,62,70,94,2002]"
      ],
      "metadata": {
        "id": "5hslnc4jp1YG"
      },
      "execution_count": 11,
      "outputs": []
    },
    {
      "cell_type": "code",
      "source": [
        "pais = mundiais[0]\n",
        "titulo01 = mundiais[1]\n",
        "titulo02 = mundiais[2]\n",
        "titulo03 = mundiais[3]\n",
        "titulo04 = mundiais[4]\n",
        "titulo05 = mundiais[5]"
      ],
      "metadata": {
        "id": "2-YeXGckqAz1"
      },
      "execution_count": 12,
      "outputs": []
    },
    {
      "cell_type": "code",
      "source": [
        "print(pais)\n",
        "print(titulo01)\n",
        "print(titulo02)\n",
        "print(titulo03)\n",
        "print(titulo04)\n",
        "print(titulo05)"
      ],
      "metadata": {
        "colab": {
          "base_uri": "https://localhost:8080/"
        },
        "id": "mkyp9VCpq_jQ",
        "outputId": "9d2a89ea-e296-49e2-d967-bdd0aa382580"
      },
      "execution_count": 13,
      "outputs": [
        {
          "output_type": "stream",
          "name": "stdout",
          "text": [
            "Brasil\n",
            "58\n",
            "62\n",
            "70\n",
            "94\n",
            "2002\n"
          ]
        }
      ]
    },
    {
      "cell_type": "code",
      "source": [
        "del mundiais[1:]"
      ],
      "metadata": {
        "id": "gan8zg8OrGrh"
      },
      "execution_count": 14,
      "outputs": []
    },
    {
      "cell_type": "code",
      "source": [
        "print(mundiais)"
      ],
      "metadata": {
        "colab": {
          "base_uri": "https://localhost:8080/"
        },
        "id": "BN7_SLfBrscE",
        "outputId": "df3d2522-dc45-46c8-930a-e68a1f25688a"
      },
      "execution_count": 17,
      "outputs": [
        {
          "output_type": "stream",
          "name": "stdout",
          "text": [
            "['Brasil', 2014]\n"
          ]
        }
      ]
    },
    {
      "cell_type": "code",
      "source": [
        "mundiais.append(2014)"
      ],
      "metadata": {
        "id": "eHV-sym_ruF0"
      },
      "execution_count": 16,
      "outputs": []
    },
    {
      "cell_type": "code",
      "source": [
        "mundiais = [['Brasil', 58, 62, 70, 94, 2002],['Alemanha', 54, 74, 90, 2014]]"
      ],
      "metadata": {
        "id": "rakDJdpiX1wc"
      },
      "execution_count": 4,
      "outputs": []
    },
    {
      "cell_type": "code",
      "source": [
        "print(mundiais[0])"
      ],
      "metadata": {
        "colab": {
          "base_uri": "https://localhost:8080/"
        },
        "id": "EmaH2R13Y4h6",
        "outputId": "f61f7bd6-e288-49a2-873a-d02b01c1e886"
      },
      "execution_count": 5,
      "outputs": [
        {
          "output_type": "stream",
          "name": "stdout",
          "text": [
            "['Brasil', 58, 62, 70, 94, 2002]\n"
          ]
        }
      ]
    },
    {
      "cell_type": "code",
      "source": [
        "print(mundiais[0][2])"
      ],
      "metadata": {
        "colab": {
          "base_uri": "https://localhost:8080/"
        },
        "id": "ZiE0C973ZB-m",
        "outputId": "31096e85-ee11-409e-c6ab-b1f36236f0e7"
      },
      "execution_count": 6,
      "outputs": [
        {
          "output_type": "stream",
          "name": "stdout",
          "text": [
            "62\n"
          ]
        }
      ]
    },
    {
      "cell_type": "code",
      "source": [
        "numeros = [34,65,96,85,12,35,61]\n",
        "palavras = ['zebra', 'leao', 'macaco', 'cachorro', 'gato', 'afea']"
      ],
      "metadata": {
        "id": "l6ShK0U2ZFER"
      },
      "execution_count": 7,
      "outputs": []
    },
    {
      "cell_type": "code",
      "source": [
        "print(max(numeros))\n",
        "print(min(numeros))\n",
        "print(max(palavras))\n",
        "print(min(palavras))"
      ],
      "metadata": {
        "colab": {
          "base_uri": "https://localhost:8080/"
        },
        "id": "PP2f17dHdUA9",
        "outputId": "13cd562e-99c0-4678-abd3-11594640a417"
      },
      "execution_count": 8,
      "outputs": [
        {
          "output_type": "stream",
          "name": "stdout",
          "text": [
            "96\n",
            "12\n",
            "zebra\n",
            "afea\n"
          ]
        }
      ]
    },
    {
      "cell_type": "code",
      "source": [
        "numeros.sort(reverse=True)"
      ],
      "metadata": {
        "id": "nOS6CDkfdX3p"
      },
      "execution_count": 12,
      "outputs": []
    },
    {
      "cell_type": "code",
      "source": [
        "print(numeros)\n"
      ],
      "metadata": {
        "colab": {
          "base_uri": "https://localhost:8080/"
        },
        "id": "Udv7HLKGeKcP",
        "outputId": "14fd6662-6d22-42ef-a938-578b009b40b6"
      },
      "execution_count": 13,
      "outputs": [
        {
          "output_type": "stream",
          "name": "stdout",
          "text": [
            "[96, 85, 65, 61, 35, 34, 12]\n"
          ]
        }
      ]
    },
    {
      "cell_type": "code",
      "source": [],
      "metadata": {
        "id": "SXV0CRAEe1n6"
      },
      "execution_count": null,
      "outputs": []
    }
  ]
}
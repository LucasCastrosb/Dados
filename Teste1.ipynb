{
  "nbformat": 4,
  "nbformat_minor": 0,
  "metadata": {
    "colab": {
      "provenance": [],
      "authorship_tag": "ABX9TyMLArPX0ANLcqJDrZrcgoLX",
      "include_colab_link": true
    },
    "kernelspec": {
      "name": "python3",
      "display_name": "Python 3"
    },
    "language_info": {
      "name": "python"
    }
  },
  "cells": [
    {
      "cell_type": "markdown",
      "metadata": {
        "id": "view-in-github",
        "colab_type": "text"
      },
      "source": [
        "<a href=\"https://colab.research.google.com/github/LucasCastrosb/Dados/blob/main/Teste1.ipynb\" target=\"_parent\"><img src=\"https://colab.research.google.com/assets/colab-badge.svg\" alt=\"Open In Colab\"/></a>"
      ]
    },
    {
      "cell_type": "markdown",
      "source": [
        "# Estudando coolab\n"
      ],
      "metadata": {
        "id": "G6wmiJhqJdWk"
      }
    },
    {
      "cell_type": "code",
      "source": [
        "frase = \"uma vez brasileiro, sempre brasileiro\"\n",
        "frase[5]"
      ],
      "metadata": {
        "colab": {
          "base_uri": "https://localhost:8080/",
          "height": 35
        },
        "id": "4YRFzozZJhhM",
        "outputId": "ce736bfb-2143-4f4b-ff95-fea9c8036c49"
      },
      "execution_count": null,
      "outputs": [
        {
          "output_type": "execute_result",
          "data": {
            "text/plain": [
              "'e'"
            ],
            "application/vnd.google.colaboratory.intrinsic+json": {
              "type": "string"
            }
          },
          "metadata": {},
          "execution_count": 2
        }
      ]
    },
    {
      "cell_type": "code",
      "source": [
        "frase = \"uma vez brasileiro, sempre brasileiro\"\n",
        "frase[5:15]"
      ],
      "metadata": {
        "colab": {
          "base_uri": "https://localhost:8080/",
          "height": 35
        },
        "id": "9L4a0zAgO3B1",
        "outputId": "f47e16f3-605c-4a9a-966e-08d6adf97d7f"
      },
      "execution_count": null,
      "outputs": [
        {
          "output_type": "execute_result",
          "data": {
            "text/plain": [
              "'ez brasile'"
            ],
            "application/vnd.google.colaboratory.intrinsic+json": {
              "type": "string"
            }
          },
          "metadata": {},
          "execution_count": 4
        }
      ]
    },
    {
      "cell_type": "code",
      "source": [],
      "metadata": {
        "id": "_61wnOR7Pjnm"
      },
      "execution_count": null,
      "outputs": []
    },
    {
      "cell_type": "code",
      "source": [
        "frase = \"uma vez brasileiro, sempre brasileiro\"\n",
        "frase[::3]"
      ],
      "metadata": {
        "colab": {
          "base_uri": "https://localhost:8080/",
          "height": 35
        },
        "outputId": "bb4c9c0d-3c1d-4928-90cf-dd1d1ce3a9ef",
        "id": "jHa9s1tePkuF"
      },
      "execution_count": null,
      "outputs": [
        {
          "output_type": "execute_result",
          "data": {
            "text/plain": [
              "'u zrii,erbseo'"
            ],
            "application/vnd.google.colaboratory.intrinsic+json": {
              "type": "string"
            }
          },
          "metadata": {},
          "execution_count": 5
        }
      ]
    },
    {
      "cell_type": "code",
      "source": [
        "print(expr)"
      ],
      "metadata": {
        "colab": {
          "base_uri": "https://localhost:8080/"
        },
        "id": "v5umDkHFSx4q",
        "outputId": "c6dbdf6a-6985-4967-91b4-5a914c551b42"
      },
      "execution_count": null,
      "outputs": [
        {
          "output_type": "stream",
          "name": "stdout",
          "text": [
            "Dados de acesso do cliente Universidade dos Dados\n",
            "\",\n",
            "    \"01/02/2017 \"3345.878.00\" \n",
            "\",\n",
            "    \"02/02/2017 \"6.088.00\" \n",
            "\",\n",
            "    \"03/02/2017 \"645.00\" \n",
            "\",\n",
            "    \"04/02/2017 \"10.876.00\"\n"
          ]
        }
      ]
    },
    {
      "cell_type": "code",
      "source": [
        "expr = '''Dados de acesso do cliente Universidade dos Dados\n",
        "01/02/2017 \"3345.878.00\"\n",
        "02/02/2017 \"6.088.00\"\n",
        "03/02/2017 \"645.00\"\n",
        "04/02/2017 \"10.876.00\"'''"
      ],
      "metadata": {
        "id": "NBHrskZ4bTJt"
      },
      "execution_count": null,
      "outputs": []
    },
    {
      "cell_type": "code",
      "source": [
        "del expr"
      ],
      "metadata": {
        "id": "OKxWC1t2bXvH"
      },
      "execution_count": null,
      "outputs": []
    },
    {
      "cell_type": "code",
      "source": [
        "inicio = expr.find('\"') + 1\n",
        "print(inicio)"
      ],
      "metadata": {
        "colab": {
          "base_uri": "https://localhost:8080/"
        },
        "id": "zYageH9nb6er",
        "outputId": "1589f870-7a7c-4bfa-82d3-0ba832dda291"
      },
      "execution_count": null,
      "outputs": [
        {
          "output_type": "stream",
          "name": "stdout",
          "text": [
            "62\n"
          ]
        }
      ]
    },
    {
      "cell_type": "code",
      "source": [
        "fim = expr.find('.00\",inicio')\n"
      ],
      "metadata": {
        "id": "N1l9f2hXcKts"
      },
      "execution_count": null,
      "outputs": []
    },
    {
      "cell_type": "code",
      "source": [
        "expr[inicio:fim]"
      ],
      "metadata": {
        "colab": {
          "base_uri": "https://localhost:8080/",
          "height": 35
        },
        "id": "jFPECYHppHjn",
        "outputId": "f9240771-ddc5-4778-aee4-ba6d1e036913"
      },
      "execution_count": null,
      "outputs": [
        {
          "output_type": "execute_result",
          "data": {
            "text/plain": [
              "'3345.878.00\"\\n02/02/2017 \"6.088.00\"\\n03/02/2017 \"645.00\"\\n04/02/2017 \"10.876.00'"
            ],
            "application/vnd.google.colaboratory.intrinsic+json": {
              "type": "string"
            }
          },
          "metadata": {},
          "execution_count": 29
        }
      ]
    },
    {
      "cell_type": "code",
      "source": [
        "teste"
      ],
      "metadata": {
        "id": "SrIH4tPasq9O"
      },
      "execution_count": null,
      "outputs": []
    },
    {
      "cell_type": "code",
      "source": [],
      "metadata": {
        "id": "9Nd8x6hetFlM"
      },
      "execution_count": null,
      "outputs": []
    },
    {
      "cell_type": "markdown",
      "source": [
        "# teste 2\n"
      ],
      "metadata": {
        "id": "sgzcR5PUs8eS"
      }
    },
    {
      "cell_type": "code",
      "source": [
        "def soma(a,b):\n",
        "  return (a + b)"
      ],
      "metadata": {
        "id": "LBwaf8QstIMO"
      },
      "execution_count": null,
      "outputs": []
    },
    {
      "cell_type": "code",
      "source": [
        "print(soma(10,22))"
      ],
      "metadata": {
        "colab": {
          "base_uri": "https://localhost:8080/"
        },
        "id": "hLli2N3duURe",
        "outputId": "dac82c62-8e53-4353-c532-0d808865f9cd"
      },
      "execution_count": null,
      "outputs": [
        {
          "output_type": "stream",
          "name": "stdout",
          "text": [
            "32\n"
          ]
        }
      ]
    },
    {
      "cell_type": "code",
      "source": [
        "def verificacao(a,b):\n",
        "  if a > b:\n",
        "    return a\n",
        "  elif b > a:\n",
        "    return b\n",
        "  else:\n",
        "    return 'Os números são iguais'"
      ],
      "metadata": {
        "id": "eaTw_vE8uXmv"
      },
      "execution_count": null,
      "outputs": []
    },
    {
      "cell_type": "code",
      "source": [
        "verificacao(10,10)"
      ],
      "metadata": {
        "colab": {
          "base_uri": "https://localhost:8080/",
          "height": 35
        },
        "id": "HKppmfBTuybh",
        "outputId": "444e9a0d-4d97-4ba0-c5eb-3da2bb01e042"
      },
      "execution_count": null,
      "outputs": [
        {
          "output_type": "execute_result",
          "data": {
            "text/plain": [
              "'Os números são iguais'"
            ],
            "application/vnd.google.colaboratory.intrinsic+json": {
              "type": "string"
            }
          },
          "metadata": {},
          "execution_count": 37
        }
      ]
    },
    {
      "cell_type": "code",
      "source": [
        "verificacao(10,6)"
      ],
      "metadata": {
        "colab": {
          "base_uri": "https://localhost:8080/"
        },
        "id": "v5FdFO6ou8Zt",
        "outputId": "89e50316-ebb2-4948-d04d-1e3be6dd5952"
      },
      "execution_count": null,
      "outputs": [
        {
          "output_type": "execute_result",
          "data": {
            "text/plain": [
              "10"
            ]
          },
          "metadata": {},
          "execution_count": 38
        }
      ]
    },
    {
      "cell_type": "code",
      "source": [
        "def concat(a,b):\n",
        "  return a + \" \" + b"
      ],
      "metadata": {
        "id": "rS94yRbCvAfh"
      },
      "execution_count": null,
      "outputs": []
    },
    {
      "cell_type": "code",
      "source": [
        "concat('Testando', 'python')"
      ],
      "metadata": {
        "colab": {
          "base_uri": "https://localhost:8080/",
          "height": 35
        },
        "id": "xXMXQEh4vM4h",
        "outputId": "7d8d775e-fe58-4e17-9cf9-6a53ec2c18da"
      },
      "execution_count": null,
      "outputs": [
        {
          "output_type": "execute_result",
          "data": {
            "text/plain": [
              "'Testando python'"
            ],
            "application/vnd.google.colaboratory.intrinsic+json": {
              "type": "string"
            }
          },
          "metadata": {},
          "execution_count": 40
        }
      ]
    },
    {
      "cell_type": "code",
      "source": [
        "def parImpar(num):\n",
        "  mod = num % 2\n",
        "  if mod == 0:\n",
        "    return 'Par'\n",
        "  else:\n",
        "    return 'Impar'"
      ],
      "metadata": {
        "id": "ZdKRlM69vVDR"
      },
      "execution_count": null,
      "outputs": []
    },
    {
      "cell_type": "code",
      "source": [
        "print(parImpar(5))\n",
        "print(parImpar(10))"
      ],
      "metadata": {
        "colab": {
          "base_uri": "https://localhost:8080/"
        },
        "id": "1Bj-w4KvwBNQ",
        "outputId": "c39b107f-db58-4e93-f683-255e7d883009"
      },
      "execution_count": null,
      "outputs": [
        {
          "output_type": "stream",
          "name": "stdout",
          "text": [
            "Impar\n",
            "Par\n"
          ]
        }
      ]
    },
    {
      "cell_type": "code",
      "source": [
        "numero = 10\n",
        "def potencia(numero,pot):\n",
        "  numero = numero **pot\n",
        "  print(numero)"
      ],
      "metadata": {
        "id": "3eT7X0bCwOcC"
      },
      "execution_count": null,
      "outputs": []
    },
    {
      "cell_type": "code",
      "source": [
        "potencia(numero,2)"
      ],
      "metadata": {
        "colab": {
          "base_uri": "https://localhost:8080/"
        },
        "id": "cqLL4aM_wi6P",
        "outputId": "0176c31c-f682-4290-f517-d90d2dd7fe5c"
      },
      "execution_count": null,
      "outputs": [
        {
          "output_type": "stream",
          "name": "stdout",
          "text": [
            "100\n"
          ]
        }
      ]
    },
    {
      "cell_type": "code",
      "source": [
        "print(numero)"
      ],
      "metadata": {
        "colab": {
          "base_uri": "https://localhost:8080/"
        },
        "id": "aJwtCtpywqPw",
        "outputId": "5f35c82b-d92b-4e1e-c5ff-800c1947abbe"
      },
      "execution_count": null,
      "outputs": [
        {
          "output_type": "stream",
          "name": "stdout",
          "text": [
            "10\n"
          ]
        }
      ]
    },
    {
      "cell_type": "code",
      "source": [
        "def pessoa(a):\n",
        "  return a + \" vai a/ao\""
      ],
      "metadata": {
        "id": "lA58mehqwr5_"
      },
      "execution_count": null,
      "outputs": []
    },
    {
      "cell_type": "code",
      "source": [
        "def lugar(b):\n",
        "  return b + \"!!!\"\n"
      ],
      "metadata": {
        "id": "Fn90PYUmxwNi"
      },
      "execution_count": null,
      "outputs": []
    },
    {
      "cell_type": "code",
      "source": [
        "def frase(a,b):\n",
        "  sujeito = pessoa(a)\n",
        "  local = lugar(b)\n",
        "  return sujeito + ' ' + local"
      ],
      "metadata": {
        "id": "VSoNt-nfyLtw"
      },
      "execution_count": null,
      "outputs": []
    },
    {
      "cell_type": "code",
      "source": [
        "frase('Lucas','Estância Velha')"
      ],
      "metadata": {
        "colab": {
          "base_uri": "https://localhost:8080/",
          "height": 35
        },
        "id": "0xyPA_fVyWsS",
        "outputId": "4be62165-7879-445b-9f4e-853a80dbfb2e"
      },
      "execution_count": null,
      "outputs": [
        {
          "output_type": "execute_result",
          "data": {
            "text/plain": [
              "'Lucas vai a/ao Estância Velha!!!'"
            ],
            "application/vnd.google.colaboratory.intrinsic+json": {
              "type": "string"
            }
          },
          "metadata": {},
          "execution_count": 60
        }
      ]
    },
    {
      "cell_type": "code",
      "source": [
        "def maiorNum(a,b):\n",
        "  if a > b:\n",
        "    return a\n",
        "  elif b > a:\n",
        "    return b\n",
        "  else:\n",
        "    return a"
      ],
      "metadata": {
        "id": "oWHr5AY9keUY"
      },
      "execution_count": 1,
      "outputs": []
    },
    {
      "cell_type": "code",
      "source": [
        "maiorNum(22,20)"
      ],
      "metadata": {
        "colab": {
          "base_uri": "https://localhost:8080/"
        },
        "id": "54gQtnWRkvW_",
        "outputId": "afd9836c-2d93-4c76-cc92-2ba41cce9b24"
      },
      "execution_count": 4,
      "outputs": [
        {
          "output_type": "execute_result",
          "data": {
            "text/plain": [
              "22"
            ]
          },
          "metadata": {},
          "execution_count": 4
        }
      ]
    },
    {
      "cell_type": "code",
      "source": [
        "def maiorTres(a,b,c):\n",
        "  aux = maiorNum(a,b)\n",
        "  if aux > c:\n",
        "    return aux\n",
        "  else:\n",
        "    return c"
      ],
      "metadata": {
        "id": "TQtmsGeukyT_"
      },
      "execution_count": 5,
      "outputs": []
    },
    {
      "cell_type": "code",
      "source": [
        "maiorTres(81,80,35)"
      ],
      "metadata": {
        "colab": {
          "base_uri": "https://localhost:8080/"
        },
        "id": "jfbx4-UslGof",
        "outputId": "38415711-8e33-43c6-9ed6-ec36e8742224"
      },
      "execution_count": 9,
      "outputs": [
        {
          "output_type": "execute_result",
          "data": {
            "text/plain": [
              "81"
            ]
          },
          "metadata": {},
          "execution_count": 9
        }
      ]
    },
    {
      "cell_type": "code",
      "source": [
        "linguagens = [\"inglês\", \"português\", \"romano\", \"italiano\"]"
      ],
      "metadata": {
        "id": "fYwyPCYYlKLO"
      },
      "execution_count": 10,
      "outputs": []
    },
    {
      "cell_type": "code",
      "source": [
        "mundiais = [\"Brasil\", 58,62,70,94,2002]"
      ],
      "metadata": {
        "id": "5hslnc4jp1YG"
      },
      "execution_count": 11,
      "outputs": []
    },
    {
      "cell_type": "code",
      "source": [
        "pais = mundiais[0]\n",
        "titulo01 = mundiais[1]\n",
        "titulo02 = mundiais[2]\n",
        "titulo03 = mundiais[3]\n",
        "titulo04 = mundiais[4]\n",
        "titulo05 = mundiais[5]"
      ],
      "metadata": {
        "id": "2-YeXGckqAz1"
      },
      "execution_count": 12,
      "outputs": []
    },
    {
      "cell_type": "code",
      "source": [
        "print(pais)\n",
        "print(titulo01)\n",
        "print(titulo02)\n",
        "print(titulo03)\n",
        "print(titulo04)\n",
        "print(titulo05)"
      ],
      "metadata": {
        "colab": {
          "base_uri": "https://localhost:8080/"
        },
        "id": "mkyp9VCpq_jQ",
        "outputId": "9d2a89ea-e296-49e2-d967-bdd0aa382580"
      },
      "execution_count": 13,
      "outputs": [
        {
          "output_type": "stream",
          "name": "stdout",
          "text": [
            "Brasil\n",
            "58\n",
            "62\n",
            "70\n",
            "94\n",
            "2002\n"
          ]
        }
      ]
    },
    {
      "cell_type": "code",
      "source": [
        "del mundiais[1:]"
      ],
      "metadata": {
        "id": "gan8zg8OrGrh"
      },
      "execution_count": 14,
      "outputs": []
    },
    {
      "cell_type": "code",
      "source": [
        "print(mundiais)"
      ],
      "metadata": {
        "colab": {
          "base_uri": "https://localhost:8080/"
        },
        "id": "BN7_SLfBrscE",
        "outputId": "df3d2522-dc45-46c8-930a-e68a1f25688a"
      },
      "execution_count": 17,
      "outputs": [
        {
          "output_type": "stream",
          "name": "stdout",
          "text": [
            "['Brasil', 2014]\n"
          ]
        }
      ]
    },
    {
      "cell_type": "code",
      "source": [
        "mundiais.append(2014)"
      ],
      "metadata": {
        "id": "eHV-sym_ruF0"
      },
      "execution_count": 16,
      "outputs": []
    },
    {
      "cell_type": "code",
      "source": [
        "mundiais = [['Brasil', 58, 62, 70, 94, 2002],['Alemanha', 54, 74, 90, 2014]]"
      ],
      "metadata": {
        "id": "rakDJdpiX1wc"
      },
      "execution_count": 4,
      "outputs": []
    },
    {
      "cell_type": "code",
      "source": [
        "print(mundiais[0])"
      ],
      "metadata": {
        "colab": {
          "base_uri": "https://localhost:8080/"
        },
        "id": "EmaH2R13Y4h6",
        "outputId": "f61f7bd6-e288-49a2-873a-d02b01c1e886"
      },
      "execution_count": 5,
      "outputs": [
        {
          "output_type": "stream",
          "name": "stdout",
          "text": [
            "['Brasil', 58, 62, 70, 94, 2002]\n"
          ]
        }
      ]
    },
    {
      "cell_type": "code",
      "source": [
        "print(mundiais[0][2])"
      ],
      "metadata": {
        "colab": {
          "base_uri": "https://localhost:8080/"
        },
        "id": "ZiE0C973ZB-m",
        "outputId": "31096e85-ee11-409e-c6ab-b1f36236f0e7"
      },
      "execution_count": 6,
      "outputs": [
        {
          "output_type": "stream",
          "name": "stdout",
          "text": [
            "62\n"
          ]
        }
      ]
    },
    {
      "cell_type": "code",
      "source": [
        "numeros = [34,65,96,85,12,35,61]\n",
        "palavras = ['zebra', 'leao', 'macaco', 'cachorro', 'gato', 'afea']"
      ],
      "metadata": {
        "id": "l6ShK0U2ZFER"
      },
      "execution_count": 7,
      "outputs": []
    },
    {
      "cell_type": "code",
      "source": [
        "print(max(numeros))\n",
        "print(min(numeros))\n",
        "print(max(palavras))\n",
        "print(min(palavras))"
      ],
      "metadata": {
        "colab": {
          "base_uri": "https://localhost:8080/"
        },
        "id": "PP2f17dHdUA9",
        "outputId": "13cd562e-99c0-4678-abd3-11594640a417"
      },
      "execution_count": 8,
      "outputs": [
        {
          "output_type": "stream",
          "name": "stdout",
          "text": [
            "96\n",
            "12\n",
            "zebra\n",
            "afea\n"
          ]
        }
      ]
    },
    {
      "cell_type": "code",
      "source": [
        "numeros.sort(reverse=True)"
      ],
      "metadata": {
        "id": "nOS6CDkfdX3p"
      },
      "execution_count": 12,
      "outputs": []
    },
    {
      "cell_type": "code",
      "source": [
        "print(numeros)\n"
      ],
      "metadata": {
        "colab": {
          "base_uri": "https://localhost:8080/"
        },
        "id": "Udv7HLKGeKcP",
        "outputId": "14fd6662-6d22-42ef-a938-578b009b40b6"
      },
      "execution_count": 13,
      "outputs": [
        {
          "output_type": "stream",
          "name": "stdout",
          "text": [
            "[96, 85, 65, 61, 35, 34, 12]\n"
          ]
        }
      ]
    },
    {
      "cell_type": "code",
      "source": [],
      "metadata": {
        "id": "SXV0CRAEe1n6"
      },
      "execution_count": null,
      "outputs": []
    },
    {
      "cell_type": "markdown",
      "source": [
        "# conjunto SET\n"
      ],
      "metadata": {
        "id": "nYSnOZWF4VNJ"
      }
    },
    {
      "cell_type": "code",
      "source": [
        "conjunto = set()\n",
        "# não aceita indice"
      ],
      "metadata": {
        "id": "C5x0RpL94aI7"
      },
      "execution_count": 8,
      "outputs": []
    },
    {
      "cell_type": "code",
      "source": [
        "conjunto.add(\"java\")\n",
        "conjunto.add(\"python\")\n",
        "conjunto.add(\"R\")"
      ],
      "metadata": {
        "id": "hWzPgwjw4cWa"
      },
      "execution_count": 9,
      "outputs": []
    },
    {
      "cell_type": "code",
      "source": [
        "print(conjunto)"
      ],
      "metadata": {
        "colab": {
          "base_uri": "https://localhost:8080/"
        },
        "id": "jmo0p5214ecs",
        "outputId": "c7391941-2667-4451-f012-dee6456564b3"
      },
      "execution_count": 10,
      "outputs": [
        {
          "output_type": "stream",
          "name": "stdout",
          "text": [
            "{'python', 'R', 'java'}\n"
          ]
        }
      ]
    },
    {
      "cell_type": "code",
      "source": [
        "conjunto.add(\"java\")"
      ],
      "metadata": {
        "id": "eXmkLLrt4z3a"
      },
      "execution_count": 11,
      "outputs": []
    },
    {
      "cell_type": "code",
      "source": [
        "print(conjunto)"
      ],
      "metadata": {
        "colab": {
          "base_uri": "https://localhost:8080/"
        },
        "id": "FStcUtcT5KZq",
        "outputId": "fab09616-0c28-4ad3-e112-e8d7cdc127cb"
      },
      "execution_count": 12,
      "outputs": [
        {
          "output_type": "stream",
          "name": "stdout",
          "text": [
            "{'python', 'R', 'java'}\n"
          ]
        }
      ]
    },
    {
      "cell_type": "code",
      "source": [
        "engenheiros = set(['joao ', 'jane','clara', 'celia' ])\n",
        "programadores = set(['clara', 'sam', 'susan', 'celia'])\n",
        "gerentes = set(['jane', 'clara', 'susan', 'zack'])"
      ],
      "metadata": {
        "id": "TDERttwW5LUd"
      },
      "execution_count": 13,
      "outputs": []
    },
    {
      "cell_type": "code",
      "source": [
        "engenheiros"
      ],
      "metadata": {
        "colab": {
          "base_uri": "https://localhost:8080/"
        },
        "id": "cs9F0Dp35vE9",
        "outputId": "b3ffd90c-5279-4c82-e887-46ac9512939a"
      },
      "execution_count": 14,
      "outputs": [
        {
          "output_type": "execute_result",
          "data": {
            "text/plain": [
              "{'celia', 'clara', 'jane', 'joao '}"
            ]
          },
          "metadata": {},
          "execution_count": 14
        }
      ]
    },
    {
      "cell_type": "code",
      "source": [
        "gerencia_de_engenheiria = engenheiros & gerentes"
      ],
      "metadata": {
        "id": "Pv0ZGfT45xNt"
      },
      "execution_count": 15,
      "outputs": []
    },
    {
      "cell_type": "code",
      "source": [
        "gerencia_de_engenheiria"
      ],
      "metadata": {
        "colab": {
          "base_uri": "https://localhost:8080/"
        },
        "id": "S8rA3VwK56qM",
        "outputId": "ebf4b47d-bee5-4489-fb5e-181c4e571327"
      },
      "execution_count": 16,
      "outputs": [
        {
          "output_type": "execute_result",
          "data": {
            "text/plain": [
              "{'clara', 'jane'}"
            ]
          },
          "metadata": {},
          "execution_count": 16
        }
      ]
    },
    {
      "cell_type": "code",
      "source": [
        "a = gerentes - programadores"
      ],
      "metadata": {
        "id": "bzJYeq1w577w"
      },
      "execution_count": 17,
      "outputs": []
    },
    {
      "cell_type": "code",
      "source": [
        "a\n"
      ],
      "metadata": {
        "colab": {
          "base_uri": "https://localhost:8080/"
        },
        "id": "wy6rMG906Okf",
        "outputId": "a62d343d-5a74-408a-cc1f-a3fa3c2d0f66"
      },
      "execution_count": 18,
      "outputs": [
        {
          "output_type": "execute_result",
          "data": {
            "text/plain": [
              "{'jane', 'zack'}"
            ]
          },
          "metadata": {},
          "execution_count": 18
        }
      ]
    },
    {
      "cell_type": "code",
      "source": [
        "contador = 0\n",
        "while contador < 15:\n",
        "  print(contador)\n",
        "  contador = contador + 1"
      ],
      "metadata": {
        "colab": {
          "base_uri": "https://localhost:8080/"
        },
        "id": "6RiJlkeP6PT3",
        "outputId": "cccd6a1f-8bee-4d84-ece1-27999d8b5b3f"
      },
      "execution_count": 20,
      "outputs": [
        {
          "output_type": "stream",
          "name": "stdout",
          "text": [
            "0\n",
            "1\n",
            "2\n",
            "3\n",
            "4\n",
            "5\n",
            "6\n",
            "7\n",
            "8\n",
            "9\n",
            "10\n",
            "11\n",
            "12\n",
            "13\n",
            "14\n"
          ]
        }
      ]
    },
    {
      "cell_type": "code",
      "source": [
        "x = 0\n",
        "while x < 10:\n",
        "  print('O valor de x é: ', x)\n",
        "  x += 1\n",
        "else:\n",
        "  print('O valor de x não é menor que 10')"
      ],
      "metadata": {
        "colab": {
          "base_uri": "https://localhost:8080/"
        },
        "id": "OlVwTVSI8Ei-",
        "outputId": "d1e1f200-5ba3-43c6-eb19-0aea16e6cb8c"
      },
      "execution_count": 21,
      "outputs": [
        {
          "output_type": "stream",
          "name": "stdout",
          "text": [
            "O valor de x é:  0\n",
            "O valor de x é:  1\n",
            "O valor de x é:  2\n",
            "O valor de x é:  3\n",
            "O valor de x é:  4\n",
            "O valor de x é:  5\n",
            "O valor de x é:  6\n",
            "O valor de x é:  7\n",
            "O valor de x é:  8\n",
            "O valor de x é:  9\n",
            "O valor de x não é menor que 10\n"
          ]
        }
      ]
    },
    {
      "cell_type": "code",
      "source": [
        "lista = ['Data science', 'big data', 'sql', 'banco de dados']"
      ],
      "metadata": {
        "id": "WUloTg8D97ow"
      },
      "execution_count": 22,
      "outputs": []
    },
    {
      "cell_type": "code",
      "source": [
        "for i in lista:\n",
        "  print(i)"
      ],
      "metadata": {
        "colab": {
          "base_uri": "https://localhost:8080/"
        },
        "id": "aXGVbMPDC9ZF",
        "outputId": "f8b86ce8-de03-4e1c-d045-7a427f5e082e"
      },
      "execution_count": 23,
      "outputs": [
        {
          "output_type": "stream",
          "name": "stdout",
          "text": [
            "Data science\n",
            "big data\n",
            "sql\n",
            "banco de dados\n"
          ]
        }
      ]
    },
    {
      "cell_type": "code",
      "source": [
        "palavra = 'Banco de dados'"
      ],
      "metadata": {
        "id": "-9_hngtQC-zo"
      },
      "execution_count": 24,
      "outputs": []
    },
    {
      "cell_type": "code",
      "source": [
        "for letra in palavra:\n",
        "  print(letra)"
      ],
      "metadata": {
        "colab": {
          "base_uri": "https://localhost:8080/"
        },
        "id": "fKgo-zaWDJWT",
        "outputId": "3472ed37-2983-44fc-bd99-84b54ec32c8a"
      },
      "execution_count": 25,
      "outputs": [
        {
          "output_type": "stream",
          "name": "stdout",
          "text": [
            "B\n",
            "a\n",
            "n\n",
            "c\n",
            "o\n",
            " \n",
            "d\n",
            "e\n",
            " \n",
            "d\n",
            "a\n",
            "d\n",
            "o\n",
            "s\n"
          ]
        }
      ]
    },
    {
      "cell_type": "code",
      "source": [
        "lista = [1,2,3,4,5,6,7,8,9,10]"
      ],
      "metadata": {
        "id": "4OPYQolFDLgC"
      },
      "execution_count": 26,
      "outputs": []
    },
    {
      "cell_type": "code",
      "source": [
        "for i in lista:\n",
        "  if i % 2 == 0:\n",
        "    print(i)"
      ],
      "metadata": {
        "colab": {
          "base_uri": "https://localhost:8080/"
        },
        "id": "ouYjD0Q9D_AH",
        "outputId": "2ad082ba-bed8-46a0-87cc-7f1fb54a5b5c"
      },
      "execution_count": 27,
      "outputs": [
        {
          "output_type": "stream",
          "name": "stdout",
          "text": [
            "2\n",
            "4\n",
            "6\n",
            "8\n",
            "10\n"
          ]
        }
      ]
    },
    {
      "cell_type": "code",
      "source": [
        "for i in lista:\n",
        "  if i % 2 > 0:\n",
        "    print(i)"
      ],
      "metadata": {
        "colab": {
          "base_uri": "https://localhost:8080/"
        },
        "id": "yHH5aht7EAMH",
        "outputId": "4ec938a1-f249-4776-9798-4ba78592f50c"
      },
      "execution_count": 28,
      "outputs": [
        {
          "output_type": "stream",
          "name": "stdout",
          "text": [
            "1\n",
            "3\n",
            "5\n",
            "7\n",
            "9\n"
          ]
        }
      ]
    },
    {
      "cell_type": "code",
      "source": [
        "i = 0\n",
        "while True:\n",
        "  print('A condição continua verdadeira. I vale: '+ str(i))\n",
        "  i = i + 1\n",
        "  if i < 5:\n",
        "    pass\n",
        "  else:\n",
        "    break"
      ],
      "metadata": {
        "colab": {
          "base_uri": "https://localhost:8080/"
        },
        "id": "KaoPEPn4EC4V",
        "outputId": "9acf86db-31aa-41f1-b255-01a030425e55"
      },
      "execution_count": 33,
      "outputs": [
        {
          "output_type": "stream",
          "name": "stdout",
          "text": [
            "A condição continua verdadeira. I vale: 0\n",
            "A condição continua verdadeira. I vale: 1\n",
            "A condição continua verdadeira. I vale: 2\n",
            "A condição continua verdadeira. I vale: 3\n",
            "A condição continua verdadeira. I vale: 4\n"
          ]
        }
      ]
    },
    {
      "cell_type": "code",
      "source": [
        " def box(largura, altura, caracter):\n",
        "   print(caracter * largura)\n",
        "   for i in range(altura - 2):\n",
        "     print(caracter + \" \" * (largura - 2) + caracter)\n",
        "   print(caracter * largura)"
      ],
      "metadata": {
        "id": "T_h12uWWFVR1"
      },
      "execution_count": 34,
      "outputs": []
    },
    {
      "cell_type": "code",
      "source": [
        "box(10,5,'#')"
      ],
      "metadata": {
        "colab": {
          "base_uri": "https://localhost:8080/"
        },
        "id": "Eh-korpSMNmP",
        "outputId": "3454813d-89ea-4604-942c-c802023868a3"
      },
      "execution_count": 36,
      "outputs": [
        {
          "output_type": "stream",
          "name": "stdout",
          "text": [
            "##########\n",
            "#        #\n",
            "#        #\n",
            "#        #\n",
            "##########\n"
          ]
        }
      ]
    },
    {
      "cell_type": "code",
      "source": [
        " def box2(largura, altura, caracter = '#'):\n",
        "   print(caracter * largura)\n",
        "   for i in range(altura - 2):\n",
        "     print(caracter + \" \" * (largura - 2) + caracter)\n",
        "   print(caracter * largura)"
      ],
      "metadata": {
        "id": "1HvKxKn-MQHi"
      },
      "execution_count": 38,
      "outputs": []
    },
    {
      "cell_type": "code",
      "source": [
        "box2(12,9)"
      ],
      "metadata": {
        "colab": {
          "base_uri": "https://localhost:8080/"
        },
        "id": "qgVL92o4Mszh",
        "outputId": "65905a8a-d2d1-40d0-9364-638a36b722e8"
      },
      "execution_count": 39,
      "outputs": [
        {
          "output_type": "stream",
          "name": "stdout",
          "text": [
            "############\n",
            "#          #\n",
            "#          #\n",
            "#          #\n",
            "#          #\n",
            "#          #\n",
            "#          #\n",
            "#          #\n",
            "############\n"
          ]
        }
      ]
    },
    {
      "cell_type": "code",
      "source": [
        "import os\n",
        "\n",
        "# Lista os arquivos da pasta atual no Google Colab\n",
        "print(os.listdir(\"/content\"))\n"
      ],
      "metadata": {
        "colab": {
          "base_uri": "https://localhost:8080/"
        },
        "id": "ANkWn72deimY",
        "outputId": "d15ab803-20bf-4479-b3dd-836292c93100"
      },
      "execution_count": 44,
      "outputs": [
        {
          "output_type": "stream",
          "name": "stdout",
          "text": [
            "['.config', 'ca-500.csv', 'sample_data']\n"
          ]
        }
      ]
    },
    {
      "cell_type": "code",
      "source": [
        "import pandas as pd\n",
        "\n",
        "# Caminho do arquivo no Colab\n",
        "caminho = \"/content/ca-500.csv\"\n",
        "\n",
        "# Lendo o CSV\n",
        "df = pd.read_csv(caminho)\n",
        "\n",
        "# Mostra as primeiras linhas\n",
        "df.head()\n"
      ],
      "metadata": {
        "colab": {
          "base_uri": "https://localhost:8080/",
          "height": 293
        },
        "id": "ULcPu1QZei4B",
        "outputId": "019182f5-eb02-4237-9d74-4904981d34f4"
      },
      "execution_count": 45,
      "outputs": [
        {
          "output_type": "execute_result",
          "data": {
            "text/plain": [
              "  first_name      last_name               company_name  \\\n",
              "0  Francoise  Rautenstrauch          Riebesell, H F Jr   \n",
              "1     Kendra           Loud          Deloitte & Touche   \n",
              "2    Lourdes       Bauswell          Oklahoma Neon Inc   \n",
              "3     Hannah        Edmison         M B A Paint Stores   \n",
              "4        Tom          Loeza  Sheraton Shreveport Hotel   \n",
              "\n",
              "                  address         city province   postal        phone1  \\\n",
              "0      2335 Canton Hwy #6      Windsor       ON  N8N 3N2  519-569-8399   \n",
              "1         6 Arch St #9757       Alcida       NB  E8J 2C4  506-363-1526   \n",
              "2     9547 Belmont Rd #21   Belleville       ON  K8P 1B3  613-903-7043   \n",
              "3  73 Pittsford Victor Rd    Vancouver       BC  V5Z 3K2  604-334-3686   \n",
              "4    447 Commercial St Se  LIle-Perrot       QC  J7V 4T4  514-487-6096   \n",
              "\n",
              "         phone2                                      email  \\\n",
              "0  519-978-6179  francoise.rautenstrauch@rautenstrauch.com   \n",
              "1  506-932-4472                            kloud@gmail.com   \n",
              "2  613-638-6682                   lourdes_bauswell@aol.com   \n",
              "3  604-692-7694                           hannah@yahoo.com   \n",
              "4  514-727-4760                        tom.loeza@gmail.com   \n",
              "\n",
              "                                      web  \n",
              "0            http://www.riebesellhfjr.com  \n",
              "1           http://www.deloittetouche.com  \n",
              "2          http://www.oklahomaneoninc.com  \n",
              "3           http://www.mbapaintstores.com  \n",
              "4  http://www.sheratonshreveporthotel.com  "
            ],
            "text/html": [
              "\n",
              "  <div id=\"df-eeb8e5b5-c42b-4bd2-93df-d65788ec671c\" class=\"colab-df-container\">\n",
              "    <div>\n",
              "<style scoped>\n",
              "    .dataframe tbody tr th:only-of-type {\n",
              "        vertical-align: middle;\n",
              "    }\n",
              "\n",
              "    .dataframe tbody tr th {\n",
              "        vertical-align: top;\n",
              "    }\n",
              "\n",
              "    .dataframe thead th {\n",
              "        text-align: right;\n",
              "    }\n",
              "</style>\n",
              "<table border=\"1\" class=\"dataframe\">\n",
              "  <thead>\n",
              "    <tr style=\"text-align: right;\">\n",
              "      <th></th>\n",
              "      <th>first_name</th>\n",
              "      <th>last_name</th>\n",
              "      <th>company_name</th>\n",
              "      <th>address</th>\n",
              "      <th>city</th>\n",
              "      <th>province</th>\n",
              "      <th>postal</th>\n",
              "      <th>phone1</th>\n",
              "      <th>phone2</th>\n",
              "      <th>email</th>\n",
              "      <th>web</th>\n",
              "    </tr>\n",
              "  </thead>\n",
              "  <tbody>\n",
              "    <tr>\n",
              "      <th>0</th>\n",
              "      <td>Francoise</td>\n",
              "      <td>Rautenstrauch</td>\n",
              "      <td>Riebesell, H F Jr</td>\n",
              "      <td>2335 Canton Hwy #6</td>\n",
              "      <td>Windsor</td>\n",
              "      <td>ON</td>\n",
              "      <td>N8N 3N2</td>\n",
              "      <td>519-569-8399</td>\n",
              "      <td>519-978-6179</td>\n",
              "      <td>francoise.rautenstrauch@rautenstrauch.com</td>\n",
              "      <td>http://www.riebesellhfjr.com</td>\n",
              "    </tr>\n",
              "    <tr>\n",
              "      <th>1</th>\n",
              "      <td>Kendra</td>\n",
              "      <td>Loud</td>\n",
              "      <td>Deloitte &amp; Touche</td>\n",
              "      <td>6 Arch St #9757</td>\n",
              "      <td>Alcida</td>\n",
              "      <td>NB</td>\n",
              "      <td>E8J 2C4</td>\n",
              "      <td>506-363-1526</td>\n",
              "      <td>506-932-4472</td>\n",
              "      <td>kloud@gmail.com</td>\n",
              "      <td>http://www.deloittetouche.com</td>\n",
              "    </tr>\n",
              "    <tr>\n",
              "      <th>2</th>\n",
              "      <td>Lourdes</td>\n",
              "      <td>Bauswell</td>\n",
              "      <td>Oklahoma Neon Inc</td>\n",
              "      <td>9547 Belmont Rd #21</td>\n",
              "      <td>Belleville</td>\n",
              "      <td>ON</td>\n",
              "      <td>K8P 1B3</td>\n",
              "      <td>613-903-7043</td>\n",
              "      <td>613-638-6682</td>\n",
              "      <td>lourdes_bauswell@aol.com</td>\n",
              "      <td>http://www.oklahomaneoninc.com</td>\n",
              "    </tr>\n",
              "    <tr>\n",
              "      <th>3</th>\n",
              "      <td>Hannah</td>\n",
              "      <td>Edmison</td>\n",
              "      <td>M B A Paint Stores</td>\n",
              "      <td>73 Pittsford Victor Rd</td>\n",
              "      <td>Vancouver</td>\n",
              "      <td>BC</td>\n",
              "      <td>V5Z 3K2</td>\n",
              "      <td>604-334-3686</td>\n",
              "      <td>604-692-7694</td>\n",
              "      <td>hannah@yahoo.com</td>\n",
              "      <td>http://www.mbapaintstores.com</td>\n",
              "    </tr>\n",
              "    <tr>\n",
              "      <th>4</th>\n",
              "      <td>Tom</td>\n",
              "      <td>Loeza</td>\n",
              "      <td>Sheraton Shreveport Hotel</td>\n",
              "      <td>447 Commercial St Se</td>\n",
              "      <td>LIle-Perrot</td>\n",
              "      <td>QC</td>\n",
              "      <td>J7V 4T4</td>\n",
              "      <td>514-487-6096</td>\n",
              "      <td>514-727-4760</td>\n",
              "      <td>tom.loeza@gmail.com</td>\n",
              "      <td>http://www.sheratonshreveporthotel.com</td>\n",
              "    </tr>\n",
              "  </tbody>\n",
              "</table>\n",
              "</div>\n",
              "    <div class=\"colab-df-buttons\">\n",
              "\n",
              "  <div class=\"colab-df-container\">\n",
              "    <button class=\"colab-df-convert\" onclick=\"convertToInteractive('df-eeb8e5b5-c42b-4bd2-93df-d65788ec671c')\"\n",
              "            title=\"Convert this dataframe to an interactive table.\"\n",
              "            style=\"display:none;\">\n",
              "\n",
              "  <svg xmlns=\"http://www.w3.org/2000/svg\" height=\"24px\" viewBox=\"0 -960 960 960\">\n",
              "    <path d=\"M120-120v-720h720v720H120Zm60-500h600v-160H180v160Zm220 220h160v-160H400v160Zm0 220h160v-160H400v160ZM180-400h160v-160H180v160Zm440 0h160v-160H620v160ZM180-180h160v-160H180v160Zm440 0h160v-160H620v160Z\"/>\n",
              "  </svg>\n",
              "    </button>\n",
              "\n",
              "  <style>\n",
              "    .colab-df-container {\n",
              "      display:flex;\n",
              "      gap: 12px;\n",
              "    }\n",
              "\n",
              "    .colab-df-convert {\n",
              "      background-color: #E8F0FE;\n",
              "      border: none;\n",
              "      border-radius: 50%;\n",
              "      cursor: pointer;\n",
              "      display: none;\n",
              "      fill: #1967D2;\n",
              "      height: 32px;\n",
              "      padding: 0 0 0 0;\n",
              "      width: 32px;\n",
              "    }\n",
              "\n",
              "    .colab-df-convert:hover {\n",
              "      background-color: #E2EBFA;\n",
              "      box-shadow: 0px 1px 2px rgba(60, 64, 67, 0.3), 0px 1px 3px 1px rgba(60, 64, 67, 0.15);\n",
              "      fill: #174EA6;\n",
              "    }\n",
              "\n",
              "    .colab-df-buttons div {\n",
              "      margin-bottom: 4px;\n",
              "    }\n",
              "\n",
              "    [theme=dark] .colab-df-convert {\n",
              "      background-color: #3B4455;\n",
              "      fill: #D2E3FC;\n",
              "    }\n",
              "\n",
              "    [theme=dark] .colab-df-convert:hover {\n",
              "      background-color: #434B5C;\n",
              "      box-shadow: 0px 1px 3px 1px rgba(0, 0, 0, 0.15);\n",
              "      filter: drop-shadow(0px 1px 2px rgba(0, 0, 0, 0.3));\n",
              "      fill: #FFFFFF;\n",
              "    }\n",
              "  </style>\n",
              "\n",
              "    <script>\n",
              "      const buttonEl =\n",
              "        document.querySelector('#df-eeb8e5b5-c42b-4bd2-93df-d65788ec671c button.colab-df-convert');\n",
              "      buttonEl.style.display =\n",
              "        google.colab.kernel.accessAllowed ? 'block' : 'none';\n",
              "\n",
              "      async function convertToInteractive(key) {\n",
              "        const element = document.querySelector('#df-eeb8e5b5-c42b-4bd2-93df-d65788ec671c');\n",
              "        const dataTable =\n",
              "          await google.colab.kernel.invokeFunction('convertToInteractive',\n",
              "                                                    [key], {});\n",
              "        if (!dataTable) return;\n",
              "\n",
              "        const docLinkHtml = 'Like what you see? Visit the ' +\n",
              "          '<a target=\"_blank\" href=https://colab.research.google.com/notebooks/data_table.ipynb>data table notebook</a>'\n",
              "          + ' to learn more about interactive tables.';\n",
              "        element.innerHTML = '';\n",
              "        dataTable['output_type'] = 'display_data';\n",
              "        await google.colab.output.renderOutput(dataTable, element);\n",
              "        const docLink = document.createElement('div');\n",
              "        docLink.innerHTML = docLinkHtml;\n",
              "        element.appendChild(docLink);\n",
              "      }\n",
              "    </script>\n",
              "  </div>\n",
              "\n",
              "\n",
              "<div id=\"df-89e603de-a9ae-442c-86f4-ac57fc999fe3\">\n",
              "  <button class=\"colab-df-quickchart\" onclick=\"quickchart('df-89e603de-a9ae-442c-86f4-ac57fc999fe3')\"\n",
              "            title=\"Suggest charts\"\n",
              "            style=\"display:none;\">\n",
              "\n",
              "<svg xmlns=\"http://www.w3.org/2000/svg\" height=\"24px\"viewBox=\"0 0 24 24\"\n",
              "     width=\"24px\">\n",
              "    <g>\n",
              "        <path d=\"M19 3H5c-1.1 0-2 .9-2 2v14c0 1.1.9 2 2 2h14c1.1 0 2-.9 2-2V5c0-1.1-.9-2-2-2zM9 17H7v-7h2v7zm4 0h-2V7h2v10zm4 0h-2v-4h2v4z\"/>\n",
              "    </g>\n",
              "</svg>\n",
              "  </button>\n",
              "\n",
              "<style>\n",
              "  .colab-df-quickchart {\n",
              "      --bg-color: #E8F0FE;\n",
              "      --fill-color: #1967D2;\n",
              "      --hover-bg-color: #E2EBFA;\n",
              "      --hover-fill-color: #174EA6;\n",
              "      --disabled-fill-color: #AAA;\n",
              "      --disabled-bg-color: #DDD;\n",
              "  }\n",
              "\n",
              "  [theme=dark] .colab-df-quickchart {\n",
              "      --bg-color: #3B4455;\n",
              "      --fill-color: #D2E3FC;\n",
              "      --hover-bg-color: #434B5C;\n",
              "      --hover-fill-color: #FFFFFF;\n",
              "      --disabled-bg-color: #3B4455;\n",
              "      --disabled-fill-color: #666;\n",
              "  }\n",
              "\n",
              "  .colab-df-quickchart {\n",
              "    background-color: var(--bg-color);\n",
              "    border: none;\n",
              "    border-radius: 50%;\n",
              "    cursor: pointer;\n",
              "    display: none;\n",
              "    fill: var(--fill-color);\n",
              "    height: 32px;\n",
              "    padding: 0;\n",
              "    width: 32px;\n",
              "  }\n",
              "\n",
              "  .colab-df-quickchart:hover {\n",
              "    background-color: var(--hover-bg-color);\n",
              "    box-shadow: 0 1px 2px rgba(60, 64, 67, 0.3), 0 1px 3px 1px rgba(60, 64, 67, 0.15);\n",
              "    fill: var(--button-hover-fill-color);\n",
              "  }\n",
              "\n",
              "  .colab-df-quickchart-complete:disabled,\n",
              "  .colab-df-quickchart-complete:disabled:hover {\n",
              "    background-color: var(--disabled-bg-color);\n",
              "    fill: var(--disabled-fill-color);\n",
              "    box-shadow: none;\n",
              "  }\n",
              "\n",
              "  .colab-df-spinner {\n",
              "    border: 2px solid var(--fill-color);\n",
              "    border-color: transparent;\n",
              "    border-bottom-color: var(--fill-color);\n",
              "    animation:\n",
              "      spin 1s steps(1) infinite;\n",
              "  }\n",
              "\n",
              "  @keyframes spin {\n",
              "    0% {\n",
              "      border-color: transparent;\n",
              "      border-bottom-color: var(--fill-color);\n",
              "      border-left-color: var(--fill-color);\n",
              "    }\n",
              "    20% {\n",
              "      border-color: transparent;\n",
              "      border-left-color: var(--fill-color);\n",
              "      border-top-color: var(--fill-color);\n",
              "    }\n",
              "    30% {\n",
              "      border-color: transparent;\n",
              "      border-left-color: var(--fill-color);\n",
              "      border-top-color: var(--fill-color);\n",
              "      border-right-color: var(--fill-color);\n",
              "    }\n",
              "    40% {\n",
              "      border-color: transparent;\n",
              "      border-right-color: var(--fill-color);\n",
              "      border-top-color: var(--fill-color);\n",
              "    }\n",
              "    60% {\n",
              "      border-color: transparent;\n",
              "      border-right-color: var(--fill-color);\n",
              "    }\n",
              "    80% {\n",
              "      border-color: transparent;\n",
              "      border-right-color: var(--fill-color);\n",
              "      border-bottom-color: var(--fill-color);\n",
              "    }\n",
              "    90% {\n",
              "      border-color: transparent;\n",
              "      border-bottom-color: var(--fill-color);\n",
              "    }\n",
              "  }\n",
              "</style>\n",
              "\n",
              "  <script>\n",
              "    async function quickchart(key) {\n",
              "      const quickchartButtonEl =\n",
              "        document.querySelector('#' + key + ' button');\n",
              "      quickchartButtonEl.disabled = true;  // To prevent multiple clicks.\n",
              "      quickchartButtonEl.classList.add('colab-df-spinner');\n",
              "      try {\n",
              "        const charts = await google.colab.kernel.invokeFunction(\n",
              "            'suggestCharts', [key], {});\n",
              "      } catch (error) {\n",
              "        console.error('Error during call to suggestCharts:', error);\n",
              "      }\n",
              "      quickchartButtonEl.classList.remove('colab-df-spinner');\n",
              "      quickchartButtonEl.classList.add('colab-df-quickchart-complete');\n",
              "    }\n",
              "    (() => {\n",
              "      let quickchartButtonEl =\n",
              "        document.querySelector('#df-89e603de-a9ae-442c-86f4-ac57fc999fe3 button');\n",
              "      quickchartButtonEl.style.display =\n",
              "        google.colab.kernel.accessAllowed ? 'block' : 'none';\n",
              "    })();\n",
              "  </script>\n",
              "</div>\n",
              "\n",
              "    </div>\n",
              "  </div>\n"
            ],
            "application/vnd.google.colaboratory.intrinsic+json": {
              "type": "dataframe",
              "variable_name": "df",
              "summary": "{\n  \"name\": \"df\",\n  \"rows\": 500,\n  \"fields\": [\n    {\n      \"column\": \"first_name\",\n      \"properties\": {\n        \"dtype\": \"string\",\n        \"num_unique_values\": 479,\n        \"samples\": [\n          \"Arlette\",\n          \"Sommer\",\n          \"Maxima\"\n        ],\n        \"semantic_type\": \"\",\n        \"description\": \"\"\n      }\n    },\n    {\n      \"column\": \"last_name\",\n      \"properties\": {\n        \"dtype\": \"string\",\n        \"num_unique_values\": 499,\n        \"samples\": [\n          \"Oien\",\n          \"Nitcher\",\n          \"Norcia\"\n        ],\n        \"semantic_type\": \"\",\n        \"description\": \"\"\n      }\n    },\n    {\n      \"column\": \"company_name\",\n      \"properties\": {\n        \"dtype\": \"string\",\n        \"num_unique_values\": 493,\n        \"samples\": [\n          \"Arizona Store Equipment\",\n          \"John J Mccarthy Agency Inc\",\n          \"Jurgemeyer Frey & Haufe\"\n        ],\n        \"semantic_type\": \"\",\n        \"description\": \"\"\n      }\n    },\n    {\n      \"column\": \"address\",\n      \"properties\": {\n        \"dtype\": \"string\",\n        \"num_unique_values\": 500,\n        \"samples\": [\n          \"45 19th St\",\n          \"10 Midway Dr\",\n          \"9 Park St\"\n        ],\n        \"semantic_type\": \"\",\n        \"description\": \"\"\n      }\n    },\n    {\n      \"column\": \"city\",\n      \"properties\": {\n        \"dtype\": \"category\",\n        \"num_unique_values\": 227,\n        \"samples\": [\n          \"Aurora\",\n          \"Hebbville\",\n          \"Etobicoke\"\n        ],\n        \"semantic_type\": \"\",\n        \"description\": \"\"\n      }\n    },\n    {\n      \"column\": \"province\",\n      \"properties\": {\n        \"dtype\": \"category\",\n        \"num_unique_values\": 10,\n        \"samples\": [\n          \"NL\",\n          \"NB\",\n          \"NS\"\n        ],\n        \"semantic_type\": \"\",\n        \"description\": \"\"\n      }\n    },\n    {\n      \"column\": \"postal\",\n      \"properties\": {\n        \"dtype\": \"string\",\n        \"num_unique_values\": 491,\n        \"samples\": [\n          \"L9C 3G2\",\n          \"G7H 6A2\",\n          \"S4V 3B8\"\n        ],\n        \"semantic_type\": \"\",\n        \"description\": \"\"\n      }\n    },\n    {\n      \"column\": \"phone1\",\n      \"properties\": {\n        \"dtype\": \"string\",\n        \"num_unique_values\": 500,\n        \"samples\": [\n          \"506-251-3150\",\n          \"905-998-3758\",\n          \"604-637-3549\"\n        ],\n        \"semantic_type\": \"\",\n        \"description\": \"\"\n      }\n    },\n    {\n      \"column\": \"phone2\",\n      \"properties\": {\n        \"dtype\": \"string\",\n        \"num_unique_values\": 500,\n        \"samples\": [\n          \"506-991-8808\",\n          \"905-848-6892\",\n          \"604-910-5870\"\n        ],\n        \"semantic_type\": \"\",\n        \"description\": \"\"\n      }\n    },\n    {\n      \"column\": \"email\",\n      \"properties\": {\n        \"dtype\": \"string\",\n        \"num_unique_values\": 500,\n        \"samples\": [\n          \"irene.benauides@gmail.com\",\n          \"anitcher@aol.com\",\n          \"aron_leuthold@leuthold.com\"\n        ],\n        \"semantic_type\": \"\",\n        \"description\": \"\"\n      }\n    },\n    {\n      \"column\": \"web\",\n      \"properties\": {\n        \"dtype\": \"string\",\n        \"num_unique_values\": 493,\n        \"samples\": [\n          \"http://www.arizonastoreequipment.com\",\n          \"http://www.johnjmccarthyagencyinc.com\",\n          \"http://www.jurgemeyerfreyhaufe.com\"\n        ],\n        \"semantic_type\": \"\",\n        \"description\": \"\"\n      }\n    }\n  ]\n}"
            }
          },
          "metadata": {},
          "execution_count": 45
        }
      ]
    },
    {
      "cell_type": "code",
      "source": [
        "lista = [30,40,50]"
      ],
      "metadata": {
        "id": "vfi2jHYUevdc"
      },
      "execution_count": 1,
      "outputs": []
    },
    {
      "cell_type": "code",
      "source": [
        "b = len(lista)"
      ],
      "metadata": {
        "id": "W7seJP_oSHVb"
      },
      "execution_count": 4,
      "outputs": []
    },
    {
      "cell_type": "code",
      "source": [
        "a = sum(lista)"
      ],
      "metadata": {
        "id": "USGdnq_vSLmY"
      },
      "execution_count": 5,
      "outputs": []
    },
    {
      "cell_type": "code",
      "source": [
        "a / b"
      ],
      "metadata": {
        "colab": {
          "base_uri": "https://localhost:8080/"
        },
        "id": "iQmWeVKySNap",
        "outputId": "50dc9bf0-49f7-4f7e-be25-1b0cefc45808"
      },
      "execution_count": 6,
      "outputs": [
        {
          "output_type": "execute_result",
          "data": {
            "text/plain": [
              "40.0"
            ]
          },
          "metadata": {},
          "execution_count": 6
        }
      ]
    },
    {
      "cell_type": "code",
      "source": [
        "def calc_media(lista):\n",
        "  tamanho =  len(lista)\n",
        "  total = sum(lista)\n",
        "  media = total / tamanho\n",
        "  return media"
      ],
      "metadata": {
        "id": "wEJ9tbebSvng"
      },
      "execution_count": 7,
      "outputs": []
    },
    {
      "cell_type": "code",
      "source": [
        "import amedia  as m# Importa o arquivo media.py\n"
      ],
      "metadata": {
        "id": "tOtbQ0seZlc4"
      },
      "execution_count": 18,
      "outputs": []
    },
    {
      "cell_type": "code",
      "source": [
        "print(amedia.calc_media(lista))  # Importa o arquivo media.py\n"
      ],
      "metadata": {
        "colab": {
          "base_uri": "https://localhost:8080/"
        },
        "id": "TMU7YnFXZulq",
        "outputId": "0d58008e-40cf-4f97-fa30-262fae00632e"
      },
      "execution_count": 15,
      "outputs": [
        {
          "output_type": "stream",
          "name": "stdout",
          "text": [
            "40.0\n"
          ]
        }
      ]
    },
    {
      "cell_type": "code",
      "source": [
        "lista = [13,5,85,64,31,85]"
      ],
      "metadata": {
        "id": "p8IbNVNCbGVR"
      },
      "execution_count": 16,
      "outputs": []
    },
    {
      "cell_type": "code",
      "source": [
        "m.calc_media(lista)"
      ],
      "metadata": {
        "colab": {
          "base_uri": "https://localhost:8080/"
        },
        "id": "0IwTwDiDajEO",
        "outputId": "958a53fb-06cd-496d-ab65-35c3a74936ad"
      },
      "execution_count": 19,
      "outputs": [
        {
          "output_type": "execute_result",
          "data": {
            "text/plain": [
              "47.166666666666664"
            ]
          },
          "metadata": {},
          "execution_count": 19
        }
      ]
    },
    {
      "cell_type": "code",
      "source": [],
      "metadata": {
        "id": "es5TjgOwbMIc"
      },
      "execution_count": null,
      "outputs": []
    },
    {
      "cell_type": "code",
      "source": [],
      "metadata": {
        "id": "l8DC1lo7dhL9"
      },
      "execution_count": null,
      "outputs": []
    }
  ]
}
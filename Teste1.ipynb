{
  "nbformat": 4,
  "nbformat_minor": 0,
  "metadata": {
    "colab": {
      "provenance": [],
      "authorship_tag": "ABX9TyNGkiVTnGxj8na2rx4zyQZ6",
      "include_colab_link": true
    },
    "kernelspec": {
      "name": "python3",
      "display_name": "Python 3"
    },
    "language_info": {
      "name": "python"
    }
  },
  "cells": [
    {
      "cell_type": "markdown",
      "metadata": {
        "id": "view-in-github",
        "colab_type": "text"
      },
      "source": [
        "<a href=\"https://colab.research.google.com/github/LucasCastrosb/Dados/blob/main/Teste1.ipynb\" target=\"_parent\"><img src=\"https://colab.research.google.com/assets/colab-badge.svg\" alt=\"Open In Colab\"/></a>"
      ]
    },
    {
      "cell_type": "markdown",
      "source": [
        "# Nova seção"
      ],
      "metadata": {
        "id": "nY_Su7LOoeE6"
      }
    },
    {
      "cell_type": "markdown",
      "source": [
        "*texto em itálico*# Nova seção"
      ],
      "metadata": {
        "id": "87ZI536ZondP"
      }
    },
    {
      "cell_type": "markdown",
      "source": [
        "*texto em itálico*# Nova seção"
      ],
      "metadata": {
        "id": "0apKddlLooap"
      }
    },
    {
      "cell_type": "markdown",
      "source": [
        "# Estudando coolab\n"
      ],
      "metadata": {
        "id": "G6wmiJhqJdWk"
      }
    },
    {
      "cell_type": "code",
      "source": [
        "frase = \"uma vez brasileiro, sempre brasileiro\"\n",
        "frase[5]"
      ],
      "metadata": {
        "colab": {
          "base_uri": "https://localhost:8080/",
          "height": 35
        },
        "id": "4YRFzozZJhhM",
        "outputId": "ce736bfb-2143-4f4b-ff95-fea9c8036c49"
      },
      "execution_count": 2,
      "outputs": [
        {
          "output_type": "execute_result",
          "data": {
            "text/plain": [
              "'e'"
            ],
            "application/vnd.google.colaboratory.intrinsic+json": {
              "type": "string"
            }
          },
          "metadata": {},
          "execution_count": 2
        }
      ]
    },
    {
      "cell_type": "code",
      "source": [
        "frase = \"uma vez brasileiro, sempre brasileiro\"\n",
        "frase[5:15]"
      ],
      "metadata": {
        "colab": {
          "base_uri": "https://localhost:8080/",
          "height": 35
        },
        "id": "9L4a0zAgO3B1",
        "outputId": "f47e16f3-605c-4a9a-966e-08d6adf97d7f"
      },
      "execution_count": 4,
      "outputs": [
        {
          "output_type": "execute_result",
          "data": {
            "text/plain": [
              "'ez brasile'"
            ],
            "application/vnd.google.colaboratory.intrinsic+json": {
              "type": "string"
            }
          },
          "metadata": {},
          "execution_count": 4
        }
      ]
    },
    {
      "cell_type": "code",
      "source": [],
      "metadata": {
        "id": "_61wnOR7Pjnm"
      },
      "execution_count": null,
      "outputs": []
    },
    {
      "cell_type": "code",
      "source": [
        "frase = \"uma vez brasileiro, sempre brasileiro\"\n",
        "frase[::3]"
      ],
      "metadata": {
        "colab": {
          "base_uri": "https://localhost:8080/",
          "height": 35
        },
        "outputId": "bb4c9c0d-3c1d-4928-90cf-dd1d1ce3a9ef",
        "id": "jHa9s1tePkuF"
      },
      "execution_count": 5,
      "outputs": [
        {
          "output_type": "execute_result",
          "data": {
            "text/plain": [
              "'u zrii,erbseo'"
            ],
            "application/vnd.google.colaboratory.intrinsic+json": {
              "type": "string"
            }
          },
          "metadata": {},
          "execution_count": 5
        }
      ]
    },
    {
      "cell_type": "code",
      "source": [
        "print(expr)"
      ],
      "metadata": {
        "colab": {
          "base_uri": "https://localhost:8080/"
        },
        "id": "v5umDkHFSx4q",
        "outputId": "c6dbdf6a-6985-4967-91b4-5a914c551b42"
      },
      "execution_count": 7,
      "outputs": [
        {
          "output_type": "stream",
          "name": "stdout",
          "text": [
            "Dados de acesso do cliente Universidade dos Dados\n",
            "\",\n",
            "    \"01/02/2017 \"3345.878.00\" \n",
            "\",\n",
            "    \"02/02/2017 \"6.088.00\" \n",
            "\",\n",
            "    \"03/02/2017 \"645.00\" \n",
            "\",\n",
            "    \"04/02/2017 \"10.876.00\"\n"
          ]
        }
      ]
    },
    {
      "cell_type": "code",
      "source": [
        "expr = '''Dados de acesso do cliente Universidade dos Dados\n",
        "01/02/2017 \"3345.878.00\"\n",
        "02/02/2017 \"6.088.00\"\n",
        "03/02/2017 \"645.00\"\n",
        "04/02/2017 \"10.876.00\"'''"
      ],
      "metadata": {
        "id": "NBHrskZ4bTJt"
      },
      "execution_count": 28,
      "outputs": []
    },
    {
      "cell_type": "code",
      "source": [
        "del expr"
      ],
      "metadata": {
        "id": "OKxWC1t2bXvH"
      },
      "execution_count": 23,
      "outputs": []
    },
    {
      "cell_type": "code",
      "source": [
        "inicio = expr.find('\"') + 1\n",
        "print(inicio)"
      ],
      "metadata": {
        "colab": {
          "base_uri": "https://localhost:8080/"
        },
        "id": "zYageH9nb6er",
        "outputId": "1589f870-7a7c-4bfa-82d3-0ba832dda291"
      },
      "execution_count": 25,
      "outputs": [
        {
          "output_type": "stream",
          "name": "stdout",
          "text": [
            "62\n"
          ]
        }
      ]
    },
    {
      "cell_type": "code",
      "source": [
        "fim = expr.find('.00\",inicio')\n"
      ],
      "metadata": {
        "id": "N1l9f2hXcKts"
      },
      "execution_count": 26,
      "outputs": []
    },
    {
      "cell_type": "code",
      "source": [
        "expr[inicio:fim]"
      ],
      "metadata": {
        "colab": {
          "base_uri": "https://localhost:8080/",
          "height": 53
        },
        "id": "jFPECYHppHjn",
        "outputId": "f9240771-ddc5-4778-aee4-ba6d1e036913"
      },
      "execution_count": 29,
      "outputs": [
        {
          "output_type": "execute_result",
          "data": {
            "text/plain": [
              "'3345.878.00\"\\n02/02/2017 \"6.088.00\"\\n03/02/2017 \"645.00\"\\n04/02/2017 \"10.876.00'"
            ],
            "application/vnd.google.colaboratory.intrinsic+json": {
              "type": "string"
            }
          },
          "metadata": {},
          "execution_count": 29
        }
      ]
    }
  ]
}
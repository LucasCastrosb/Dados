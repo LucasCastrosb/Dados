{
  "nbformat": 4,
  "nbformat_minor": 0,
  "metadata": {
    "colab": {
      "provenance": [],
      "authorship_tag": "ABX9TyPOOKWX3s0WOyqAFl/qTOZ7",
      "include_colab_link": true
    },
    "kernelspec": {
      "name": "python3",
      "display_name": "Python 3"
    },
    "language_info": {
      "name": "python"
    }
  },
  "cells": [
    {
      "cell_type": "markdown",
      "metadata": {
        "id": "view-in-github",
        "colab_type": "text"
      },
      "source": [
        "<a href=\"https://colab.research.google.com/github/LucasCastrosb/Dados/blob/main/JogoForca1.ipynb\" target=\"_parent\"><img src=\"https://colab.research.google.com/assets/colab-badge.svg\" alt=\"Open In Colab\"/></a>"
      ]
    },
    {
      "cell_type": "markdown",
      "source": [
        "#inicio"
      ],
      "metadata": {
        "id": "Vz4Ec00Jnefd"
      }
    },
    {
      "cell_type": "code",
      "source": [
        " import random\n",
        " from os import system, name"
      ],
      "metadata": {
        "id": "7oju80-1kpHh"
      },
      "execution_count": 2,
      "outputs": []
    },
    {
      "cell_type": "code",
      "source": [
        "#função para limpar tela\n",
        "def limpa_tela():\n",
        "  if name == 'nt':\n",
        "    _ = system('cls')\n",
        "  else:\n",
        "    _ = system('clear')"
      ],
      "metadata": {
        "id": "oT5_4nDsnbIC"
      },
      "execution_count": 3,
      "outputs": []
    },
    {
      "cell_type": "code",
      "source": [
        "def game():\n",
        "  limpa_tela()\n",
        "  print(\"Bem-vindo(a) ao jogo da forca!\")\n",
        "  print(\"Adivinhe a palavra abaixo:\\n\")"
      ],
      "metadata": {
        "id": "3L-dnXdMq0HB"
      },
      "execution_count": 4,
      "outputs": []
    },
    {
      "cell_type": "code",
      "source": [
        "palavras = ['banana', 'abacate', 'uva', 'morango', 'laranja']"
      ],
      "metadata": {
        "id": "6LWjKWgRrs_i"
      },
      "execution_count": 5,
      "outputs": []
    },
    {
      "cell_type": "code",
      "source": [
        "palavra = random.choice(palavras)"
      ],
      "metadata": {
        "id": "9BxWDnILryoB"
      },
      "execution_count": 6,
      "outputs": []
    },
    {
      "cell_type": "code",
      "source": [
        "letras_descobertas = ['_' for letra in palavra]"
      ],
      "metadata": {
        "id": "8zbnrjTYsaWD"
      },
      "execution_count": 7,
      "outputs": []
    },
    {
      "cell_type": "code",
      "source": [
        "chances = 6"
      ],
      "metadata": {
        "id": "-RymUSMGs4ES"
      },
      "execution_count": 8,
      "outputs": []
    },
    {
      "cell_type": "code",
      "source": [
        "letras_erradas = []"
      ],
      "metadata": {
        "id": "-f4pXCU9tYcy"
      },
      "execution_count": 9,
      "outputs": []
    },
    {
      "cell_type": "code",
      "source": [
        "while chances > 0:\n",
        "  print(\" \".join(letras_descobertas))\n",
        "  print(\"\\nChances restantes:\", chances)\n",
        "  print(\"Letras erradas:\", \" \".join(letras_erradas))\n",
        "\n",
        "  tentativa = input(\"\\nDigite uma letra: \").lower()\n",
        "\n",
        "  if tentativa in palavra:\n",
        "    index = 0\n",
        "    for letra in palavra:\n",
        "      if tentativa == letra:\n",
        "\n",
        "        letras_descobertas[index] = letra\n",
        "      index += 1\n",
        "  else:\n",
        "    chances -= 1\n",
        "    letras_erradas.append(tentativa)\n",
        "  if \"_\" not in letras_descobertas:\n",
        "    print(\"\\nParabéns! Você adivinhou a palavra:\", palavra)\n",
        "    break\n",
        "\n",
        "if \"_\" in letras_descobertas:\n",
        "  print(\"\\nVocê perdeu! A palavra era:\", palavra)\n",
        "\n",
        "if __name__ == \"__main__\":\n",
        "  game()"
      ],
      "metadata": {
        "colab": {
          "base_uri": "https://localhost:8080/"
        },
        "id": "7m64DjUptaU0",
        "outputId": "d661b4b9-9edf-4213-9cd3-0682bc5b0491"
      },
      "execution_count": 14,
      "outputs": [
        {
          "output_type": "stream",
          "name": "stdout",
          "text": [
            "a b a c a t e\n",
            "\n",
            "Chances restantes: 4\n",
            "Letras erradas: 5 z\n",
            "\n",
            "Digite uma letra: a\n",
            "\n",
            "Parabéns! Você adivinhou a palavra: abacate\n",
            "Bem-vindo(a) ao jogo da forca!\n",
            "Adivinhe a palavra abaixo:\n",
            "\n"
          ]
        }
      ]
    },
    {
      "cell_type": "code",
      "source": [],
      "metadata": {
        "id": "m_l2K654F1QB"
      },
      "execution_count": null,
      "outputs": []
    }
  ]
}
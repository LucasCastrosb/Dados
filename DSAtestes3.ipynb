{
  "nbformat": 4,
  "nbformat_minor": 0,
  "metadata": {
    "colab": {
      "provenance": [],
      "authorship_tag": "ABX9TyPK/wnCVFMIuB6eUM/YWGlM",
      "include_colab_link": true
    },
    "kernelspec": {
      "name": "python3",
      "display_name": "Python 3"
    },
    "language_info": {
      "name": "python"
    }
  },
  "cells": [
    {
      "cell_type": "markdown",
      "metadata": {
        "id": "view-in-github",
        "colab_type": "text"
      },
      "source": [
        "<a href=\"https://colab.research.google.com/github/LucasCastrosb/Dados/blob/main/DSAtestes3.ipynb\" target=\"_parent\"><img src=\"https://colab.research.google.com/assets/colab-badge.svg\" alt=\"Open In Colab\"/></a>"
      ]
    },
    {
      "cell_type": "code",
      "execution_count": 1,
      "metadata": {
        "colab": {
          "base_uri": "https://localhost:8080/"
        },
        "id": "yZ1PDWSHrc42",
        "outputId": "392af856-4474-4588-a8df-1aae967238d7"
      },
      "outputs": [
        {
          "name": "stdout",
          "output_type": "stream",
          "text": [
            "Insira um numero: 6\n"
          ]
        }
      ],
      "source": [
        "base = float(input(\"Insira um numero: \"))"
      ]
    },
    {
      "cell_type": "code",
      "source": [
        "altura = float(input(\"Insira um numero: \"))"
      ],
      "metadata": {
        "colab": {
          "base_uri": "https://localhost:8080/"
        },
        "id": "IXCRntcpQXVp",
        "outputId": "bebb638f-8895-4613-8648-763f822fda67"
      },
      "execution_count": 2,
      "outputs": [
        {
          "name": "stdout",
          "output_type": "stream",
          "text": [
            "Insira um numero: 5\n"
          ]
        }
      ]
    },
    {
      "cell_type": "code",
      "source": [
        "area = base * altura"
      ],
      "metadata": {
        "id": "Joq-EBzUQbw5"
      },
      "execution_count": 3,
      "outputs": []
    },
    {
      "cell_type": "code",
      "source": [
        "print('Altura é ', altura)"
      ],
      "metadata": {
        "colab": {
          "base_uri": "https://localhost:8080/"
        },
        "id": "vXotJberQed5",
        "outputId": "05a1293b-580f-4b66-a517-dd9dcdc4bd25"
      },
      "execution_count": 4,
      "outputs": [
        {
          "output_type": "stream",
          "name": "stdout",
          "text": [
            "Altura é  5.0\n"
          ]
        }
      ]
    },
    {
      "cell_type": "markdown",
      "source": [
        "calculadora\n",
        "\n",
        "\n"
      ],
      "metadata": {
        "id": "RW9_dzSqSlhd"
      }
    },
    {
      "cell_type": "code",
      "source": [
        "num1 = float(input(\"Insira um numero: \"))"
      ],
      "metadata": {
        "colab": {
          "base_uri": "https://localhost:8080/"
        },
        "id": "rimYD9xNSqjz",
        "outputId": "288ded42-b149-477b-acdd-2c7ae177f78f"
      },
      "execution_count": 16,
      "outputs": [
        {
          "name": "stdout",
          "output_type": "stream",
          "text": [
            "Insira um numero: 8\n"
          ]
        }
      ]
    },
    {
      "cell_type": "code",
      "source": [
        "num2 = float(input(\"Insira um numero: \"))"
      ],
      "metadata": {
        "colab": {
          "base_uri": "https://localhost:8080/"
        },
        "id": "RgepUSIMSuaD",
        "outputId": "399a187c-114a-43f6-87e3-1a672eb2982a"
      },
      "execution_count": 20,
      "outputs": [
        {
          "name": "stdout",
          "output_type": "stream",
          "text": [
            "Insira um numero: 0\n"
          ]
        }
      ]
    },
    {
      "cell_type": "code",
      "source": [
        "operação = input(\"Selecione uma operação (+, -, *, /): \")\n",
        "if operação == \"+\":\n",
        "    resultado = num1 + num2\n",
        "    print(\"O resultado é: \", resultado)\n",
        "elif operação == \"-\":\n",
        "    resultado = num1 - num2\n",
        "    print(\"O resultado é: \", resultado)\n",
        "elif operação == \"*\":\n",
        "    resultado = num1 * num2\n",
        "    print(\"O resultado é: \", resultado)\n",
        "elif operação == \"/\":\n",
        "    resultado = num1 / num2\n",
        "    print(\"O resultado é: \", resultado)\n",
        "else:\n",
        "    print(\"Operação inválida\")"
      ],
      "metadata": {
        "colab": {
          "base_uri": "https://localhost:8080/"
        },
        "id": "84r1LRU6S1V0",
        "outputId": "ddec50ef-c9fb-4531-953d-0aac099278a3"
      },
      "execution_count": 22,
      "outputs": [
        {
          "output_type": "stream",
          "name": "stdout",
          "text": [
            "Selecione uma operação (+, -, *, /): -\n",
            "O resultado é:  8.0\n"
          ]
        }
      ]
    },
    {
      "cell_type": "markdown",
      "source": [
        "Bubble Sort"
      ],
      "metadata": {
        "id": "3JofNIHLiU71"
      }
    },
    {
      "cell_type": "code",
      "source": [
        "lista2 = [2,4,7,1,5,6,48,13,15,81,51,22]"
      ],
      "metadata": {
        "id": "B0xqkhpYiZqg"
      },
      "execution_count": 46,
      "outputs": []
    },
    {
      "cell_type": "markdown",
      "source": [],
      "metadata": {
        "id": "aMC9xB3ukype"
      }
    },
    {
      "cell_type": "code",
      "source": [
        "def bubble_sort(arr):\n",
        "    n = len(arr)\n",
        "    for i in range(n):\n",
        "        for j in range(0, n-i-1):\n",
        "            if arr[j] > arr[j+1]:\n",
        "                arr[j], arr[j+1] = arr[j+1], arr[j]\n",
        "    return arr"
      ],
      "metadata": {
        "id": "9zXF1L7oi-7D"
      },
      "execution_count": 42,
      "outputs": []
    },
    {
      "cell_type": "code",
      "source": [
        "print(bubble_sort(lista2))"
      ],
      "metadata": {
        "colab": {
          "base_uri": "https://localhost:8080/"
        },
        "id": "81PoveTOkrSV",
        "outputId": "a2499771-5dab-4738-e05f-1909cf95d372"
      },
      "execution_count": 47,
      "outputs": [
        {
          "output_type": "stream",
          "name": "stdout",
          "text": [
            "[1, 2, 4, 5, 6, 7, 13, 15, 22, 48, 51, 81]\n"
          ]
        }
      ]
    },
    {
      "cell_type": "code",
      "source": [],
      "metadata": {
        "id": "Nup5d563kt1Q"
      },
      "execution_count": null,
      "outputs": []
    }
  ]
}
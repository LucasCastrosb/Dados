{
  "nbformat": 4,
  "nbformat_minor": 0,
  "metadata": {
    "colab": {
      "provenance": [],
      "authorship_tag": "ABX9TyPTo7VAP51ICYH1/v3rUqzA",
      "include_colab_link": true
    },
    "kernelspec": {
      "name": "python3",
      "display_name": "Python 3"
    },
    "language_info": {
      "name": "python"
    }
  },
  "cells": [
    {
      "cell_type": "markdown",
      "metadata": {
        "id": "view-in-github",
        "colab_type": "text"
      },
      "source": [
        "<a href=\"https://colab.research.google.com/github/LucasCastrosb/Dados/blob/main/DSAteste5.ipynb\" target=\"_parent\"><img src=\"https://colab.research.google.com/assets/colab-badge.svg\" alt=\"Open In Colab\"/></a>"
      ]
    },
    {
      "cell_type": "code",
      "execution_count": 2,
      "metadata": {
        "colab": {
          "base_uri": "https://localhost:8080/"
        },
        "id": "eg-mQ2hjtydP",
        "outputId": "948105af-0ab9-434b-835b-a1f22047ce52"
      },
      "outputs": [
        {
          "output_type": "stream",
          "name": "stdout",
          "text": [
            "A sentença é verdadeira\n"
          ]
        }
      ],
      "source": [
        "if 5 > 2:\n",
        "  print(\"A sentença é verdadeira\")\n"
      ]
    },
    {
      "cell_type": "code",
      "source": [
        "if 5 > 2:\n",
        "  print(\"A sentença é verdadeira\")\n",
        "else:\n",
        "  print(\"A sentença é falsa\")"
      ],
      "metadata": {
        "colab": {
          "base_uri": "https://localhost:8080/"
        },
        "id": "B4l7FZmc3vMr",
        "outputId": "360afcb5-2e98-4ed9-ef9b-b9dad2ef0aed"
      },
      "execution_count": 3,
      "outputs": [
        {
          "output_type": "stream",
          "name": "stdout",
          "text": [
            "A sentença é verdadeira\n"
          ]
        }
      ]
    },
    {
      "cell_type": "code",
      "source": [
        "dia = \"terça\""
      ],
      "metadata": {
        "id": "r6wx2uen53M6"
      },
      "execution_count": 4,
      "outputs": []
    },
    {
      "cell_type": "code",
      "source": [
        "if dia == \"Segunda\":\n",
        "  print(\"Hoje fará sol\")\n",
        "elif dia == \"Terça\":\n",
        "  print(\"Hoje vai chover\")\n",
        "else:\n",
        "  print(\"Sem previsão do tempo para o dia selecionado\")"
      ],
      "metadata": {
        "colab": {
          "base_uri": "https://localhost:8080/"
        },
        "id": "RGoJ197N33c3",
        "outputId": "eb004c9c-75d7-49b6-f786-841ed050f806"
      },
      "execution_count": 6,
      "outputs": [
        {
          "output_type": "stream",
          "name": "stdout",
          "text": [
            "Sem previsão do tempo para o dia selecionado\n"
          ]
        }
      ]
    },
    {
      "cell_type": "code",
      "source": [
        "idade = 18\n",
        "if idade > 17:\n",
        "    print(\"Você pode dirigir!\")"
      ],
      "metadata": {
        "colab": {
          "base_uri": "https://localhost:8080/"
        },
        "id": "HIPdvFeD95ZC",
        "outputId": "d6f68a3e-444e-46c6-e6cd-0597f9903f76"
      },
      "execution_count": 8,
      "outputs": [
        {
          "output_type": "stream",
          "name": "stdout",
          "text": [
            "Você pode dirigir!\n"
          ]
        }
      ]
    },
    {
      "cell_type": "code",
      "source": [
        "Nome = \"Bob\"\n",
        "if idade > 13:\n",
        "    if Nome == \"Bob\":\n",
        "        print(\"Ok Bob, você está autorizado a entrar!\")\n",
        "    else:\n",
        "        print(\"Desculpe, mas você não pode entrar!\")"
      ],
      "metadata": {
        "colab": {
          "base_uri": "https://localhost:8080/"
        },
        "id": "k8dCPfoI5kye",
        "outputId": "da93d067-2b27-4954-c438-9483b9682afa"
      },
      "execution_count": 9,
      "outputs": [
        {
          "output_type": "stream",
          "name": "stdout",
          "text": [
            "Ok Bob, você está autorizado a entrar!\n"
          ]
        }
      ]
    },
    {
      "cell_type": "code",
      "source": [
        "idade = 18\n",
        "Nome = \"Bob\"\n",
        "if (idade >= 17) or (Nome == \"Bob\"):\n",
        "  print(\"Ok Bob, você está autorizado a entrar!\")\n",
        "else:\n",
        "  print(\"Desculpe, mas você não pode entrar!\")"
      ],
      "metadata": {
        "colab": {
          "base_uri": "https://localhost:8080/"
        },
        "id": "kfqgctpi9107",
        "outputId": "e2aff337-f500-451b-b812-5b8669b24e21"
      },
      "execution_count": 28,
      "outputs": [
        {
          "output_type": "stream",
          "name": "stdout",
          "text": [
            "Ok Bob, você está autorizado a entrar!\n"
          ]
        }
      ]
    },
    {
      "cell_type": "code",
      "source": [
        "disciplina = 'Data Science'\n",
        "nota_final = 90\n",
        "semestre = 2\n",
        "\n",
        "if disciplina == 'Data Science' and nota_final >= 80 and semestre != 1:\n",
        "  print('Você foi aprovado em %s com média final %r!' %(disciplina, nota_final))\n",
        "else:\n",
        "  print('Lamento, acho que você precisa estudar mais!')"
      ],
      "metadata": {
        "colab": {
          "base_uri": "https://localhost:8080/"
        },
        "id": "hfNUOkYj-NjW",
        "outputId": "c6722a18-2a04-4787-af17-755e697eb81d"
      },
      "execution_count": 1,
      "outputs": [
        {
          "output_type": "stream",
          "name": "stdout",
          "text": [
            "Você foi aprovado em Data Science com média final 90!\n"
          ]
        }
      ]
    },
    {
      "cell_type": "markdown",
      "source": [
        "LOOP"
      ],
      "metadata": {
        "id": "-vzulBjC7D4a"
      }
    },
    {
      "cell_type": "code",
      "source": [
        "tp = (2,3,4)\n",
        "for i in tp:\n",
        "  print(i)"
      ],
      "metadata": {
        "colab": {
          "base_uri": "https://localhost:8080/"
        },
        "id": "WE8SkNMM7EwI",
        "outputId": "2e7c5d9d-db04-4ebe-c554-869dcdeb0ca2"
      },
      "execution_count": 3,
      "outputs": [
        {
          "output_type": "stream",
          "name": "stdout",
          "text": [
            "2\n",
            "3\n",
            "4\n"
          ]
        }
      ]
    },
    {
      "cell_type": "code",
      "source": [
        "for contador in range(0,5):\n",
        "  print(contador)"
      ],
      "metadata": {
        "colab": {
          "base_uri": "https://localhost:8080/"
        },
        "id": "qOkx9Q3l7H5X",
        "outputId": "d300c482-702d-4a08-e3ef-3cc3ff726e12"
      },
      "execution_count": 4,
      "outputs": [
        {
          "output_type": "stream",
          "name": "stdout",
          "text": [
            "0\n",
            "1\n",
            "2\n",
            "3\n",
            "4\n"
          ]
        }
      ]
    },
    {
      "cell_type": "code",
      "source": [
        "lista = [1,2,3,4,5,6,7,8,9,10]\n",
        "for num in lista:\n",
        "  if num % 2 == 0:\n",
        "    print(num)"
      ],
      "metadata": {
        "colab": {
          "base_uri": "https://localhost:8080/"
        },
        "id": "qkiSpO8173k4",
        "outputId": "cd575f2e-4dda-4a22-f7af-c4b15cea7807"
      },
      "execution_count": 6,
      "outputs": [
        {
          "output_type": "stream",
          "name": "stdout",
          "text": [
            "2\n",
            "4\n",
            "6\n",
            "8\n",
            "10\n"
          ]
        }
      ]
    },
    {
      "cell_type": "code",
      "source": [
        "for i in range(0,21,2):\n",
        "  print(i)"
      ],
      "metadata": {
        "colab": {
          "base_uri": "https://localhost:8080/"
        },
        "id": "0qsQ3cZh8G94",
        "outputId": "d9165d74-ab8c-4740-ea4d-c1c7d4604452"
      },
      "execution_count": 12,
      "outputs": [
        {
          "output_type": "stream",
          "name": "stdout",
          "text": [
            "0\n",
            "2\n",
            "4\n",
            "6\n",
            "8\n",
            "10\n",
            "12\n",
            "14\n",
            "16\n",
            "18\n",
            "20\n"
          ]
        }
      ]
    },
    {
      "cell_type": "code",
      "source": [
        "for caracter in 'Coleção de caracter':\n",
        "  print(caracter)"
      ],
      "metadata": {
        "colab": {
          "base_uri": "https://localhost:8080/"
        },
        "id": "4bwe5c7j9Fja",
        "outputId": "bcede2ef-5f26-42d7-b523-5a92b3af23da"
      },
      "execution_count": 14,
      "outputs": [
        {
          "output_type": "stream",
          "name": "stdout",
          "text": [
            "C\n",
            "o\n",
            "l\n",
            "e\n",
            "ç\n",
            "ã\n",
            "o\n",
            " \n",
            "d\n",
            "e\n",
            " \n",
            "c\n",
            "a\n",
            "r\n",
            "a\n",
            "c\n",
            "t\n",
            "e\n",
            "r\n"
          ]
        }
      ]
    },
    {
      "cell_type": "code",
      "source": [
        "lista = [0,1,2,3,4]\n",
        "lista2 = [1,2,3]\n",
        "\n",
        "for elemento_lista in lista:\n",
        "  for elemento_lista2 in lista2:\n",
        "    print('\\n', elemento_lista * elemento_lista2)\n",
        "  print('----')"
      ],
      "metadata": {
        "colab": {
          "base_uri": "https://localhost:8080/"
        },
        "id": "bmjLd5I99SRo",
        "outputId": "94d531be-205b-4c5f-c82d-bcc1d58dbba7"
      },
      "execution_count": 16,
      "outputs": [
        {
          "output_type": "stream",
          "name": "stdout",
          "text": [
            "\n",
            " 0\n",
            "\n",
            " 0\n",
            "\n",
            " 0\n",
            "----\n",
            "\n",
            " 1\n",
            "\n",
            " 2\n",
            "\n",
            " 3\n",
            "----\n",
            "\n",
            " 2\n",
            "\n",
            " 4\n",
            "\n",
            " 6\n",
            "----\n",
            "\n",
            " 3\n",
            "\n",
            " 6\n",
            "\n",
            " 9\n",
            "----\n",
            "\n",
            " 4\n",
            "\n",
            " 8\n",
            "\n",
            " 12\n",
            "----\n"
          ]
        }
      ]
    },
    {
      "cell_type": "code",
      "source": [
        "lista = [10,25,34,64,15,47]\n",
        "lista2= [10,25,46,84,94,47]\n",
        "\n",
        "for elemento_lista in lista:\n",
        "  for elemento_lista2 in lista2:\n",
        "    if elemento_lista == 10 and elemento_lista2 == 10:\n",
        "      print('O valor 10 faz parte das duas listas')"
      ],
      "metadata": {
        "colab": {
          "base_uri": "https://localhost:8080/"
        },
        "id": "0Ls_dRZU9xZ7",
        "outputId": "7e3230ec-70ae-485e-eacd-99e95796703f"
      },
      "execution_count": 21,
      "outputs": [
        {
          "output_type": "stream",
          "name": "stdout",
          "text": [
            "O valor 10 faz parte das duas listas\n"
          ]
        }
      ]
    },
    {
      "cell_type": "code",
      "source": [
        "lista1 = [10,16,21,39,47]\n",
        "lista2 = [32,89,33,76,12]\n",
        "soma = 0\n",
        "\n",
        "for lista in [lista1, lista2]:\n",
        "  for num in lista:\n",
        "    if num %2 == 0:\n",
        "      soma += num\n",
        "print('A soma dos números pares das duas listas é igual a', soma)"
      ],
      "metadata": {
        "colab": {
          "base_uri": "https://localhost:8080/"
        },
        "id": "B0bX5b_3_PuM",
        "outputId": "9c78bbfe-ae15-45dc-f656-e4e15de7e2de"
      },
      "execution_count": 29,
      "outputs": [
        {
          "output_type": "stream",
          "name": "stdout",
          "text": [
            "A soma dos números pares das duas listas é igual a 146\n"
          ]
        }
      ]
    },
    {
      "cell_type": "code",
      "source": [
        "lista1 + lista2"
      ],
      "metadata": {
        "colab": {
          "base_uri": "https://localhost:8080/"
        },
        "id": "6IbaOfO4_2qQ",
        "outputId": "936b3b62-4bd1-4410-b233-0f24eccdd581"
      },
      "execution_count": 30,
      "outputs": [
        {
          "output_type": "execute_result",
          "data": {
            "text/plain": [
              "[10, 16, 21, 39, 47, 32, 89, 33, 76, 12]"
            ]
          },
          "metadata": {},
          "execution_count": 30
        }
      ]
    },
    {
      "cell_type": "code",
      "source": [
        " matriz = [[42, 23, 34], [100, 215, 114], [10.1, 98.7, 12.3]]\n",
        "maior_numero = 0\n",
        "\n",
        "for linha in matriz:\n",
        "  for num in linha:\n",
        "     if num > maior_numero:\n",
        "       maior_numero = num\n",
        "print('O maior número da matriz é', maior_numero)\n"
      ],
      "metadata": {
        "colab": {
          "base_uri": "https://localhost:8080/"
        },
        "id": "qnond9x0Um-C",
        "outputId": "607aee4a-335d-4cfd-99d5-5195c0f1b403"
      },
      "execution_count": 32,
      "outputs": [
        {
          "output_type": "stream",
          "name": "stdout",
          "text": [
            "O maior número da matriz é 215\n"
          ]
        }
      ]
    },
    {
      "cell_type": "code",
      "source": [
        "dict = {'k1':'Python','k2':'R','k3':'Scala'}\n",
        "for item in dict:\n",
        "  print(item)"
      ],
      "metadata": {
        "colab": {
          "base_uri": "https://localhost:8080/"
        },
        "id": "wNt3a53vVLmU",
        "outputId": "d2863a4c-f5cf-47cf-91e1-090d8ce17067"
      },
      "execution_count": 33,
      "outputs": [
        {
          "output_type": "stream",
          "name": "stdout",
          "text": [
            "k1\n",
            "k2\n",
            "k3\n"
          ]
        }
      ]
    },
    {
      "cell_type": "code",
      "source": [
        "for k,v in dict.items():\n",
        "  print(k,v)"
      ],
      "metadata": {
        "colab": {
          "base_uri": "https://localhost:8080/"
        },
        "id": "jw59-TfEVsgC",
        "outputId": "2cbd7d67-404f-466a-d9ba-7aa0a0556336"
      },
      "execution_count": 35,
      "outputs": [
        {
          "output_type": "stream",
          "name": "stdout",
          "text": [
            "k1 Python\n",
            "k2 R\n",
            "k3 Scala\n"
          ]
        }
      ]
    },
    {
      "cell_type": "code",
      "source": [
        "valor = 0\n",
        "while valor < 10:\n",
        "  print(valor)\n",
        "  valor = valor + 2"
      ],
      "metadata": {
        "colab": {
          "base_uri": "https://localhost:8080/"
        },
        "collapsed": true,
        "id": "_fQ-bRcpV1Gz",
        "outputId": "6c4b2c37-ac06-4663-f6c8-a2133206b1b7"
      },
      "execution_count": 37,
      "outputs": [
        {
          "output_type": "stream",
          "name": "stdout",
          "text": [
            "0\n",
            "2\n",
            "4\n",
            "6\n",
            "8\n"
          ]
        }
      ]
    },
    {
      "cell_type": "code",
      "source": [
        "valor = 0\n",
        "while valor < 10:\n",
        "    if valor == 4:\n",
        "        break\n",
        "    else:\n",
        "      pass\n",
        "    print(valor)\n",
        "    valor = valor + 1"
      ],
      "metadata": {
        "colab": {
          "base_uri": "https://localhost:8080/"
        },
        "id": "O4aV-0q8ZYVy",
        "outputId": "6e762503-94b5-46fb-91d2-6826227228f6"
      },
      "execution_count": 40,
      "outputs": [
        {
          "output_type": "stream",
          "name": "stdout",
          "text": [
            "0\n",
            "1\n",
            "2\n",
            "3\n"
          ]
        }
      ]
    },
    {
      "cell_type": "code",
      "source": [
        "for letra in \"Python é zzz incrível!\":\n",
        "    if letra == \"z\":\n",
        "        continue\n",
        "    print(letra)"
      ],
      "metadata": {
        "colab": {
          "base_uri": "https://localhost:8080/"
        },
        "id": "kk-zbKoWawHA",
        "outputId": "53b6a856-52de-4033-98b8-60ca96969299"
      },
      "execution_count": 42,
      "outputs": [
        {
          "output_type": "stream",
          "name": "stdout",
          "text": [
            "P\n",
            "y\n",
            "t\n",
            "h\n",
            "o\n",
            "n\n",
            " \n",
            "é\n",
            " \n",
            " \n",
            "i\n",
            "n\n",
            "c\n",
            "r\n",
            "í\n",
            "v\n",
            "e\n",
            "l\n",
            "!\n"
          ]
        }
      ]
    },
    {
      "cell_type": "code",
      "source": [
        "%%time\n",
        "primos = []\n",
        "for num in range(2,31):\n",
        "  eh_primo = True\n",
        "  i = 2\n",
        "  while i <= num // 2:\n",
        "    if num % i == 0:\n",
        "      eh_primo = False\n",
        "      break\n",
        "    i += 1\n",
        "  if eh_primo:\n",
        "    primos.append(num)\n",
        "print(primos)"
      ],
      "metadata": {
        "colab": {
          "base_uri": "https://localhost:8080/"
        },
        "id": "VXLP1ZIaa-E2",
        "outputId": "1543af0a-1750-4fe3-9960-5c1fce061382"
      },
      "execution_count": 44,
      "outputs": [
        {
          "output_type": "stream",
          "name": "stdout",
          "text": [
            "[2, 3, 5, 7, 11, 13, 17, 19, 23, 29]\n",
            "CPU times: user 92 µs, sys: 11 µs, total: 103 µs\n",
            "Wall time: 140 µs\n"
          ]
        }
      ]
    },
    {
      "cell_type": "code",
      "source": [
        "for i in range (1,11):\n",
        "  print(i)"
      ],
      "metadata": {
        "colab": {
          "base_uri": "https://localhost:8080/"
        },
        "id": "6PUKE4QNb-sF",
        "outputId": "f0da2f8d-9089-40bc-9d88-e01c73a175c5"
      },
      "execution_count": 45,
      "outputs": [
        {
          "output_type": "stream",
          "name": "stdout",
          "text": [
            "1\n",
            "2\n",
            "3\n",
            "4\n",
            "5\n",
            "6\n",
            "7\n",
            "8\n",
            "9\n",
            "10\n"
          ]
        }
      ]
    },
    {
      "cell_type": "code",
      "source": [
        "for i in range(70,101,2):\n",
        "  print(i)"
      ],
      "metadata": {
        "colab": {
          "base_uri": "https://localhost:8080/"
        },
        "id": "7UcuV0Iogk-M",
        "outputId": "1c521763-aefe-4e6b-9f5c-43a7b481a6b8"
      },
      "execution_count": 48,
      "outputs": [
        {
          "output_type": "stream",
          "name": "stdout",
          "text": [
            "70\n",
            "72\n",
            "74\n",
            "76\n",
            "78\n",
            "80\n",
            "82\n",
            "84\n",
            "86\n",
            "88\n",
            "90\n",
            "92\n",
            "94\n",
            "96\n",
            "98\n",
            "100\n"
          ]
        }
      ]
    },
    {
      "cell_type": "code",
      "source": [
        "lista = ['Abacaxi', 'Banana', 'Morango', 'Uva']\n",
        "lista_tamanho = len(lista)\n",
        "for i in range(0, lista_tamanho):\n",
        "    print(lista[i])"
      ],
      "metadata": {
        "colab": {
          "base_uri": "https://localhost:8080/"
        },
        "id": "PdxXTMYrgpWa",
        "outputId": "3e219f67-046c-42af-8929-6b64b09747a9"
      },
      "execution_count": 49,
      "outputs": [
        {
          "output_type": "stream",
          "name": "stdout",
          "text": [
            "Abacaxi\n",
            "Banana\n",
            "Morango\n",
            "Uva\n"
          ]
        }
      ]
    },
    {
      "cell_type": "code",
      "source": [
        "lista = [100, -2, 12, 65, 0]"
      ],
      "metadata": {
        "id": "jSPVMUXaiZz0"
      },
      "execution_count": 52,
      "outputs": []
    },
    {
      "cell_type": "code",
      "source": [
        "lista.append(100)"
      ],
      "metadata": {
        "id": "wBRyNy47p0Mj"
      },
      "execution_count": 57,
      "outputs": []
    },
    {
      "cell_type": "code",
      "source": [
        "lista"
      ],
      "metadata": {
        "colab": {
          "base_uri": "https://localhost:8080/"
        },
        "id": "SG4ivJN6p5Wz",
        "outputId": "ded8cd40-c04e-46aa-8d55-af9920ae80f1"
      },
      "execution_count": 58,
      "outputs": [
        {
          "output_type": "execute_result",
          "data": {
            "text/plain": [
              "[100, -2, 12, 65, 0, 10, 100]"
            ]
          },
          "metadata": {},
          "execution_count": 58
        }
      ]
    },
    {
      "cell_type": "code",
      "source": [
        "print(lista)"
      ],
      "metadata": {
        "colab": {
          "base_uri": "https://localhost:8080/"
        },
        "id": "myIAKattp7Sg",
        "outputId": "97f7829c-d142-4d73-8767-b3f8f8397cdb"
      },
      "execution_count": 59,
      "outputs": [
        {
          "output_type": "stream",
          "name": "stdout",
          "text": [
            "[100, -2, 12, 65, 0, 10, 100]\n"
          ]
        }
      ]
    },
    {
      "cell_type": "code",
      "source": [
        "lista.count(100)"
      ],
      "metadata": {
        "colab": {
          "base_uri": "https://localhost:8080/"
        },
        "id": "9OQhc_5wqCZC",
        "outputId": "9d1b957f-6b3d-4d03-d14d-0dff0e632496"
      },
      "execution_count": 60,
      "outputs": [
        {
          "output_type": "execute_result",
          "data": {
            "text/plain": [
              "2"
            ]
          },
          "metadata": {},
          "execution_count": 60
        }
      ]
    },
    {
      "cell_type": "code",
      "source": [
        "help(lista.count)"
      ],
      "metadata": {
        "colab": {
          "base_uri": "https://localhost:8080/"
        },
        "id": "_fV6vOCsqHBh",
        "outputId": "da431eb9-3ac5-44de-a671-fbd2f11dfc91"
      },
      "execution_count": 61,
      "outputs": [
        {
          "output_type": "stream",
          "name": "stdout",
          "text": [
            "Help on built-in function count:\n",
            "\n",
            "count(value, /) method of builtins.list instance\n",
            "    Return number of occurrences of value.\n",
            "\n"
          ]
        }
      ]
    },
    {
      "cell_type": "code",
      "source": [
        "dir(lista)"
      ],
      "metadata": {
        "colab": {
          "base_uri": "https://localhost:8080/"
        },
        "id": "j2rD7SG2qli2",
        "outputId": "d3bdc901-18a4-4c49-fd37-5421538e35c1"
      },
      "execution_count": 62,
      "outputs": [
        {
          "output_type": "execute_result",
          "data": {
            "text/plain": [
              "['__add__',\n",
              " '__class__',\n",
              " '__class_getitem__',\n",
              " '__contains__',\n",
              " '__delattr__',\n",
              " '__delitem__',\n",
              " '__dir__',\n",
              " '__doc__',\n",
              " '__eq__',\n",
              " '__format__',\n",
              " '__ge__',\n",
              " '__getattribute__',\n",
              " '__getitem__',\n",
              " '__getstate__',\n",
              " '__gt__',\n",
              " '__hash__',\n",
              " '__iadd__',\n",
              " '__imul__',\n",
              " '__init__',\n",
              " '__init_subclass__',\n",
              " '__iter__',\n",
              " '__le__',\n",
              " '__len__',\n",
              " '__lt__',\n",
              " '__mul__',\n",
              " '__ne__',\n",
              " '__new__',\n",
              " '__reduce__',\n",
              " '__reduce_ex__',\n",
              " '__repr__',\n",
              " '__reversed__',\n",
              " '__rmul__',\n",
              " '__setattr__',\n",
              " '__setitem__',\n",
              " '__sizeof__',\n",
              " '__str__',\n",
              " '__subclasshook__',\n",
              " 'append',\n",
              " 'clear',\n",
              " 'copy',\n",
              " 'count',\n",
              " 'extend',\n",
              " 'index',\n",
              " 'insert',\n",
              " 'pop',\n",
              " 'remove',\n",
              " 'reverse',\n",
              " 'sort']"
            ]
          },
          "metadata": {},
          "execution_count": 62
        }
      ]
    },
    {
      "cell_type": "code",
      "source": [
        "frase = 'Isso é uma string'"
      ],
      "metadata": {
        "id": "Ajy71VKyquFD"
      },
      "execution_count": 63,
      "outputs": []
    },
    {
      "cell_type": "code",
      "source": [
        "print(frase.split())"
      ],
      "metadata": {
        "colab": {
          "base_uri": "https://localhost:8080/"
        },
        "id": "-A6O64r_q1Zi",
        "outputId": "80700d3d-db31-45f6-8efb-99efc0173248"
      },
      "execution_count": 64,
      "outputs": [
        {
          "output_type": "stream",
          "name": "stdout",
          "text": [
            "['Isso', 'é', 'uma', 'string']\n"
          ]
        }
      ]
    },
    {
      "cell_type": "markdown",
      "source": [
        "FUNÇÕES"
      ],
      "metadata": {
        "id": "NVCGdgDFrtYd"
      }
    },
    {
      "cell_type": "code",
      "source": [
        "def primeirafunc():\n",
        "  print('Hello world')\n"
      ],
      "metadata": {
        "id": "ODE9V3iiruXh"
      },
      "execution_count": 65,
      "outputs": []
    },
    {
      "cell_type": "code",
      "source": [
        "primeirafunc()"
      ],
      "metadata": {
        "colab": {
          "base_uri": "https://localhost:8080/"
        },
        "id": "hmvI2A3ysKLD",
        "outputId": "e7e08f76-c7d2-4c96-f629-1e8293a9dd52"
      },
      "execution_count": 66,
      "outputs": [
        {
          "output_type": "stream",
          "name": "stdout",
          "text": [
            "Hello world\n"
          ]
        }
      ]
    },
    {
      "cell_type": "code",
      "source": [
        "def primeirafunc():\n",
        "  nome = 'Bob'\n",
        "  print('Hello %s' %(nome))"
      ],
      "metadata": {
        "id": "lGCLX45WsOhF"
      },
      "execution_count": 67,
      "outputs": []
    },
    {
      "cell_type": "code",
      "source": [
        "primeirafunc()"
      ],
      "metadata": {
        "colab": {
          "base_uri": "https://localhost:8080/"
        },
        "id": "94RCpChvsYUC",
        "outputId": "1d132538-beaa-40b4-aa0d-12025762d1e0"
      },
      "execution_count": 68,
      "outputs": [
        {
          "output_type": "stream",
          "name": "stdout",
          "text": [
            "Hello Bob\n"
          ]
        }
      ]
    },
    {
      "cell_type": "code",
      "source": [
        "def segundafunc(nome):\n",
        "  print('Hello %s' %(nome))"
      ],
      "metadata": {
        "id": "jBCDzKhksaiy"
      },
      "execution_count": 69,
      "outputs": []
    },
    {
      "cell_type": "code",
      "source": [
        "segundafunc('Lucas')"
      ],
      "metadata": {
        "colab": {
          "base_uri": "https://localhost:8080/"
        },
        "id": "jr6Nw-J6s1Iy",
        "outputId": "a8b1db38-334e-47c2-898d-b2cbd683f0b1"
      },
      "execution_count": 70,
      "outputs": [
        {
          "output_type": "stream",
          "name": "stdout",
          "text": [
            "Hello Lucas\n"
          ]
        }
      ]
    },
    {
      "cell_type": "code",
      "source": [
        "def addNum(firstnum, secondnum):\n",
        "    print(\"Primeiro número: \" + str(firstnum))\n",
        "    print(\"Segundo número: \" + str(secondnum))\n",
        "    print(\"Soma: \", firstnum + secondnum)"
      ],
      "metadata": {
        "id": "WLknkk12s37D"
      },
      "execution_count": 71,
      "outputs": []
    },
    {
      "cell_type": "code",
      "source": [
        "addNum(5,3)"
      ],
      "metadata": {
        "colab": {
          "base_uri": "https://localhost:8080/"
        },
        "id": "xvVPzKtjtLmm",
        "outputId": "821b3339-6d2f-4f0a-a563-2b14a2850481"
      },
      "execution_count": 72,
      "outputs": [
        {
          "output_type": "stream",
          "name": "stdout",
          "text": [
            "Primeiro número: 5\n",
            "Segundo número: 3\n",
            "Soma:  8\n"
          ]
        }
      ]
    },
    {
      "cell_type": "code",
      "source": [
        "def printVarinfo(arg1, *vartuple):\n",
        "  print('O parâmetro passado foi: ', arg1)\n",
        "  for item in vartuple:\n",
        "    print('O parâmetro passado foi: ', item)\n",
        "  return;"
      ],
      "metadata": {
        "id": "2-JjI5w8tQZV"
      },
      "execution_count": 73,
      "outputs": []
    },
    {
      "cell_type": "code",
      "source": [
        "printVarinfo(10)"
      ],
      "metadata": {
        "colab": {
          "base_uri": "https://localhost:8080/"
        },
        "id": "EGPunCrGtyjG",
        "outputId": "336a37d2-0b84-48ac-a22c-70d8f9ba3711"
      },
      "execution_count": 74,
      "outputs": [
        {
          "output_type": "stream",
          "name": "stdout",
          "text": [
            "O parâmetro passado foi:  10\n"
          ]
        }
      ]
    },
    {
      "cell_type": "code",
      "source": [
        "printVarinfo('Chocolate', 'Morango', 'Banana')"
      ],
      "metadata": {
        "colab": {
          "base_uri": "https://localhost:8080/"
        },
        "id": "i4o-H5trt0gV",
        "outputId": "506250d9-fcc6-4f33-ddf2-af307f9764ef"
      },
      "execution_count": 75,
      "outputs": [
        {
          "output_type": "stream",
          "name": "stdout",
          "text": [
            "O parâmetro passado foi:  Chocolate\n",
            "O parâmetro passado foi:  Morango\n",
            "O parâmetro passado foi:  Banana\n"
          ]
        }
      ]
    },
    {
      "cell_type": "code",
      "source": [
        "var_global = 10\n",
        "def multiply(num1, num2):\n",
        "  var_global = num1 * num2\n",
        "  print(var_global)"
      ],
      "metadata": {
        "id": "D47Eds4nt2MY"
      },
      "execution_count": 76,
      "outputs": []
    },
    {
      "cell_type": "code",
      "source": [
        "multiply(4,23)"
      ],
      "metadata": {
        "colab": {
          "base_uri": "https://localhost:8080/"
        },
        "id": "tm52SKpbutjq",
        "outputId": "74d28f5a-41c1-4cb9-8e62-89da82f0dc86"
      },
      "execution_count": 77,
      "outputs": [
        {
          "output_type": "stream",
          "name": "stdout",
          "text": [
            "92\n"
          ]
        }
      ]
    },
    {
      "cell_type": "code",
      "source": [
        "idade = int(input(\"Digite sua idade: \"))\n",
        "if idade > 13:\n",
        "    print(\"Você pode acessar Redes Sociais sem supervisão!\")\n",
        "else:\n",
        "    print(\"Seus pais não deveriam você acessar Redes Sociais sem supervisão!\")\n"
      ],
      "metadata": {
        "colab": {
          "base_uri": "https://localhost:8080/"
        },
        "id": "0C9Oayequwa5",
        "outputId": "18466590-7dcb-4359-c01e-ae0f7445dc73"
      },
      "execution_count": 78,
      "outputs": [
        {
          "output_type": "stream",
          "name": "stdout",
          "text": [
            "Digite sua idade: 15\n",
            "Você pode acessar Redes Sociais sem supervisão!\n"
          ]
        }
      ]
    },
    {
      "cell_type": "code",
      "source": [
        "import math\n",
        "\n",
        "def numPrimo(num):\n",
        "  if (num % 2) == 0 and num > 2:\n",
        "    return \"este número não é primo\"\n",
        "  for i in range(3, int(math.sqrt(num)) + 1, 2):\n",
        "    if (num % i) == 0:\n",
        "      return \"Este número não é primo\"\n",
        "  return \"Este número é primo\""
      ],
      "metadata": {
        "id": "JgGp-cPSyg8e"
      },
      "execution_count": 79,
      "outputs": []
    },
    {
      "cell_type": "code",
      "source": [
        "numPrimo(234)"
      ],
      "metadata": {
        "colab": {
          "base_uri": "https://localhost:8080/",
          "height": 35
        },
        "id": "Bht_-Cbz2p1U",
        "outputId": "1b9f4fca-4194-45ca-9a8e-8f04d8af1ca3"
      },
      "execution_count": 80,
      "outputs": [
        {
          "output_type": "execute_result",
          "data": {
            "text/plain": [
              "'este número não é primo'"
            ],
            "application/vnd.google.colaboratory.intrinsic+json": {
              "type": "string"
            }
          },
          "metadata": {},
          "execution_count": 80
        }
      ]
    },
    {
      "cell_type": "code",
      "source": [
        "numPrimo(13)"
      ],
      "metadata": {
        "colab": {
          "base_uri": "https://localhost:8080/",
          "height": 35
        },
        "id": "R7_YgDay2rqz",
        "outputId": "3fb1c5c6-9635-4031-8fe4-43206c0a3c9f"
      },
      "execution_count": 82,
      "outputs": [
        {
          "output_type": "execute_result",
          "data": {
            "text/plain": [
              "'Este número é primo'"
            ],
            "application/vnd.google.colaboratory.intrinsic+json": {
              "type": "string"
            }
          },
          "metadata": {},
          "execution_count": 82
        }
      ]
    },
    {
      "cell_type": "code",
      "source": [
        "def split_string_palavras(text):\n",
        "    return text.split(\" \")"
      ],
      "metadata": {
        "id": "7pMB1ll72tjh"
      },
      "execution_count": 83,
      "outputs": []
    },
    {
      "cell_type": "code",
      "source": [
        "texto = 'Está função será bastante útil'"
      ],
      "metadata": {
        "id": "GyaRS2sv30sj"
      },
      "execution_count": 84,
      "outputs": []
    },
    {
      "cell_type": "code",
      "source": [
        "print(split_string_palavras(texto))"
      ],
      "metadata": {
        "colab": {
          "base_uri": "https://localhost:8080/"
        },
        "id": "JXLWkHl335-0",
        "outputId": "c62e49c6-13fc-4618-b656-97543acdc3ae"
      },
      "execution_count": 85,
      "outputs": [
        {
          "output_type": "stream",
          "name": "stdout",
          "text": [
            "['Está', 'função', 'será', 'bastante', 'útil']\n"
          ]
        }
      ]
    },
    {
      "cell_type": "code",
      "source": [
        "token = split_string_palavras(texto)"
      ],
      "metadata": {
        "id": "TNPYw8N538Ji"
      },
      "execution_count": 86,
      "outputs": []
    },
    {
      "cell_type": "code",
      "source": [
        "token"
      ],
      "metadata": {
        "colab": {
          "base_uri": "https://localhost:8080/"
        },
        "id": "uJq0G-Sg4Sdy",
        "outputId": "605c786a-5d50-4c6a-f859-34b546785914"
      },
      "execution_count": 87,
      "outputs": [
        {
          "output_type": "execute_result",
          "data": {
            "text/plain": [
              "['Está', 'função', 'será', 'bastante', 'útil']"
            ]
          },
          "metadata": {},
          "execution_count": 87
        }
      ]
    },
    {
      "cell_type": "code",
      "source": [
        "def split_string_letras(text):\n",
        "  texto = text.upper()\n",
        "  for letra in texto:\n",
        "    print(letra)"
      ],
      "metadata": {
        "id": "PCUZ1YoE4TVz"
      },
      "execution_count": 88,
      "outputs": []
    },
    {
      "cell_type": "code",
      "source": [
        "split_string_letras(texto)"
      ],
      "metadata": {
        "colab": {
          "base_uri": "https://localhost:8080/"
        },
        "id": "JKA3Au0W49iy",
        "outputId": "48901786-05ea-48a4-daac-915df3c29ca2"
      },
      "execution_count": 89,
      "outputs": [
        {
          "output_type": "stream",
          "name": "stdout",
          "text": [
            "E\n",
            "S\n",
            "T\n",
            "Á\n",
            " \n",
            "F\n",
            "U\n",
            "N\n",
            "Ç\n",
            "Ã\n",
            "O\n",
            " \n",
            "S\n",
            "E\n",
            "R\n",
            "Á\n",
            " \n",
            "B\n",
            "A\n",
            "S\n",
            "T\n",
            "A\n",
            "N\n",
            "T\n",
            "E\n",
            " \n",
            "Ú\n",
            "T\n",
            "I\n",
            "L\n"
          ]
        }
      ]
    },
    {
      "cell_type": "markdown",
      "source": [
        "LAMBDA"
      ],
      "metadata": {
        "id": "_E5c84cl5Y4y"
      }
    },
    {
      "cell_type": "code",
      "source": [
        "def potencia(num):\n",
        "  resultado = num **2\n",
        "  return resultado"
      ],
      "metadata": {
        "id": "NiUDFQ8z5bZk"
      },
      "execution_count": 90,
      "outputs": []
    },
    {
      "cell_type": "code",
      "source": [
        "potencia(5)"
      ],
      "metadata": {
        "colab": {
          "base_uri": "https://localhost:8080/"
        },
        "id": "CiTuyi0W5jVD",
        "outputId": "968bf2ab-1878-4b25-b1c9-eaca6b24b5a2"
      },
      "execution_count": 91,
      "outputs": [
        {
          "output_type": "execute_result",
          "data": {
            "text/plain": [
              "25"
            ]
          },
          "metadata": {},
          "execution_count": 91
        }
      ]
    },
    {
      "cell_type": "code",
      "source": [
        "def potencia(num):\n",
        "  return num **2"
      ],
      "metadata": {
        "id": "FbhN5hWV5k9V"
      },
      "execution_count": 92,
      "outputs": []
    },
    {
      "cell_type": "code",
      "source": [
        "potencia(3)"
      ],
      "metadata": {
        "colab": {
          "base_uri": "https://localhost:8080/"
        },
        "id": "XsWWC-nw5oSm",
        "outputId": "f34ca97d-d17e-4e77-e619-dbfb16faadd8"
      },
      "execution_count": 93,
      "outputs": [
        {
          "output_type": "execute_result",
          "data": {
            "text/plain": [
              "9"
            ]
          },
          "metadata": {},
          "execution_count": 93
        }
      ]
    },
    {
      "cell_type": "code",
      "source": [
        "def potencia(num): return num **2"
      ],
      "metadata": {
        "id": "1ebIIEC-5p2D"
      },
      "execution_count": 94,
      "outputs": []
    },
    {
      "cell_type": "code",
      "source": [
        "potencia(4)"
      ],
      "metadata": {
        "colab": {
          "base_uri": "https://localhost:8080/"
        },
        "id": "Uu1iaXVW5tr1",
        "outputId": "b40288da-bb99-47d6-feb0-0ff924c9d7cd"
      },
      "execution_count": 95,
      "outputs": [
        {
          "output_type": "execute_result",
          "data": {
            "text/plain": [
              "16"
            ]
          },
          "metadata": {},
          "execution_count": 95
        }
      ]
    },
    {
      "cell_type": "code",
      "source": [
        "potencia = lambda num: num **2"
      ],
      "metadata": {
        "id": "gX3vJHkb5xbE"
      },
      "execution_count": 96,
      "outputs": []
    },
    {
      "cell_type": "code",
      "source": [
        "potencia(7)"
      ],
      "metadata": {
        "colab": {
          "base_uri": "https://localhost:8080/"
        },
        "id": "xQ083u_457Wp",
        "outputId": "30984e6c-a1b1-4b73-840c-9bdd2391cedf"
      },
      "execution_count": 97,
      "outputs": [
        {
          "output_type": "execute_result",
          "data": {
            "text/plain": [
              "49"
            ]
          },
          "metadata": {},
          "execution_count": 97
        }
      ]
    },
    {
      "cell_type": "code",
      "source": [
        "Par = lambda x: x%2==0"
      ],
      "metadata": {
        "id": "JLRrSNLK58PG"
      },
      "execution_count": 100,
      "outputs": []
    },
    {
      "cell_type": "code",
      "source": [
        "Par(3)"
      ],
      "metadata": {
        "colab": {
          "base_uri": "https://localhost:8080/"
        },
        "id": "BFjqrij06J0H",
        "outputId": "2635821c-1929-41f7-fc76-008da93f00f0"
      },
      "execution_count": 101,
      "outputs": [
        {
          "output_type": "execute_result",
          "data": {
            "text/plain": [
              "False"
            ]
          },
          "metadata": {},
          "execution_count": 101
        }
      ]
    },
    {
      "cell_type": "code",
      "source": [
        "Par(6)"
      ],
      "metadata": {
        "colab": {
          "base_uri": "https://localhost:8080/"
        },
        "id": "zrItNdJ-6K1j",
        "outputId": "c05caae9-bd22-4c8d-c86d-7c6bfddfa7ca"
      },
      "execution_count": 102,
      "outputs": [
        {
          "output_type": "execute_result",
          "data": {
            "text/plain": [
              "True"
            ]
          },
          "metadata": {},
          "execution_count": 102
        }
      ]
    },
    {
      "cell_type": "code",
      "source": [
        "first = lambda s: s[0]"
      ],
      "metadata": {
        "id": "lTtPQiUA6Q7m"
      },
      "execution_count": 103,
      "outputs": []
    },
    {
      "cell_type": "code",
      "source": [
        "first('Primeira posição')"
      ],
      "metadata": {
        "colab": {
          "base_uri": "https://localhost:8080/",
          "height": 35
        },
        "id": "LwdX9Dod6YZF",
        "outputId": "8ab673d5-90ce-44e6-f9f3-27e3bfcb2191"
      },
      "execution_count": 104,
      "outputs": [
        {
          "output_type": "execute_result",
          "data": {
            "text/plain": [
              "'P'"
            ],
            "application/vnd.google.colaboratory.intrinsic+json": {
              "type": "string"
            }
          },
          "metadata": {},
          "execution_count": 104
        }
      ]
    },
    {
      "cell_type": "code",
      "source": [
        "reverso = lambda s: s[::-1]"
      ],
      "metadata": {
        "id": "v5dES7M16bv1"
      },
      "execution_count": 105,
      "outputs": []
    },
    {
      "cell_type": "code",
      "source": [
        "reverso('ao contrario')"
      ],
      "metadata": {
        "colab": {
          "base_uri": "https://localhost:8080/",
          "height": 35
        },
        "id": "bmUY5_RF6gRD",
        "outputId": "17b060d9-36f2-4ae9-82dd-716f5c550447"
      },
      "execution_count": 107,
      "outputs": [
        {
          "output_type": "execute_result",
          "data": {
            "text/plain": [
              "'oirartnoc oa'"
            ],
            "application/vnd.google.colaboratory.intrinsic+json": {
              "type": "string"
            }
          },
          "metadata": {},
          "execution_count": 107
        }
      ]
    },
    {
      "cell_type": "code",
      "source": [
        "addNum = lambda x,y : x*y"
      ],
      "metadata": {
        "id": "1rAbwUtt6iJj"
      },
      "execution_count": 108,
      "outputs": []
    },
    {
      "cell_type": "code",
      "source": [
        "addNum(2,3)"
      ],
      "metadata": {
        "colab": {
          "base_uri": "https://localhost:8080/"
        },
        "id": "308Bms446rsE",
        "outputId": "1f0d5f29-b47a-47b2-84c1-cad246da80f2"
      },
      "execution_count": 109,
      "outputs": [
        {
          "output_type": "execute_result",
          "data": {
            "text/plain": [
              "6"
            ]
          },
          "metadata": {},
          "execution_count": 109
        }
      ]
    },
    {
      "cell_type": "code",
      "source": [
        "[x for x in range(10)]"
      ],
      "metadata": {
        "colab": {
          "base_uri": "https://localhost:8080/"
        },
        "id": "2WZwiNFs6s9T",
        "outputId": "00e0d1ef-794d-4969-89f7-4b5feb9ddd6b"
      },
      "execution_count": 110,
      "outputs": [
        {
          "output_type": "execute_result",
          "data": {
            "text/plain": [
              "[0, 1, 2, 3, 4, 5, 6, 7, 8, 9]"
            ]
          },
          "metadata": {},
          "execution_count": 110
        }
      ]
    },
    {
      "cell_type": "code",
      "source": [
        "lista_numeros = [x for x in range(10) if x < 5]\n",
        "print(lista_numeros)"
      ],
      "metadata": {
        "colab": {
          "base_uri": "https://localhost:8080/"
        },
        "id": "LCRL0wHFH-_3",
        "outputId": "0143fff6-46b6-4abe-9740-1465cd4568ad"
      },
      "execution_count": 111,
      "outputs": [
        {
          "output_type": "stream",
          "name": "stdout",
          "text": [
            "[0, 1, 2, 3, 4]\n"
          ]
        }
      ]
    },
    {
      "cell_type": "code",
      "source": [
        "lista_frutas = [\"banana\", \"abacate\", \"melancia\", \"cereja\", \"manga\"]\n",
        "nova_lista = []"
      ],
      "metadata": {
        "id": "FmQnuG4nIeRU"
      },
      "execution_count": 112,
      "outputs": []
    },
    {
      "cell_type": "code",
      "source": [
        "for x in lista_frutas:\n",
        "    if \"m\" in x:\n",
        "        nova_lista.append(x)"
      ],
      "metadata": {
        "id": "gCAhvGx0Ir2U"
      },
      "execution_count": 113,
      "outputs": []
    },
    {
      "cell_type": "code",
      "source": [
        "print(nova_lista)"
      ],
      "metadata": {
        "colab": {
          "base_uri": "https://localhost:8080/"
        },
        "id": "LnmOTAgzIvjS",
        "outputId": "f55f3f53-ef63-4140-9a9f-f49517cd21f3"
      },
      "execution_count": 114,
      "outputs": [
        {
          "output_type": "stream",
          "name": "stdout",
          "text": [
            "['melancia', 'manga']\n"
          ]
        }
      ]
    },
    {
      "cell_type": "code",
      "source": [
        "nova_lista = [x for x in lista_frutas if \"m\" in x]\n",
        "print(nova_lista)"
      ],
      "metadata": {
        "colab": {
          "base_uri": "https://localhost:8080/"
        },
        "id": "eXqz0sDDIzpE",
        "outputId": "28e4da3e-e88f-45df-d55a-f120233d3c29"
      },
      "execution_count": 115,
      "outputs": [
        {
          "output_type": "stream",
          "name": "stdout",
          "text": [
            "['melancia', 'manga']\n"
          ]
        }
      ]
    },
    {
      "cell_type": "code",
      "source": [
        "dict_alunos = {'Bob': 68, 'Michel': 84, 'Zico': 57, 'Ana': 93}\n"
      ],
      "metadata": {
        "id": "uDg-E817I18z"
      },
      "execution_count": 116,
      "outputs": []
    },
    {
      "cell_type": "code",
      "source": [
        "dict_alunos_status = {k:v for (k, v) in dict_alunos.items()}\n",
        "print(dict_alunos_status)"
      ],
      "metadata": {
        "colab": {
          "base_uri": "https://localhost:8080/"
        },
        "id": "652429XJI-Y1",
        "outputId": "3adcde5f-6dbe-4b9a-9b73-b0625e48329a"
      },
      "execution_count": 119,
      "outputs": [
        {
          "output_type": "stream",
          "name": "stdout",
          "text": [
            "{'Bob': 68, 'Michel': 84, 'Zico': 57, 'Ana': 93}\n"
          ]
        }
      ]
    },
    {
      "cell_type": "code",
      "source": [
        "dict_alunos_status = {k:('Aprovado' if v > 70 else 'Reprovado') for (k, v) in dict_alunos.items()}\n",
        "print(dict_alunos_status)"
      ],
      "metadata": {
        "colab": {
          "base_uri": "https://localhost:8080/"
        },
        "id": "2JPY_qBJI-yy",
        "outputId": "a51f1dde-2287-4b65-ce44-4655c3dd6c3b"
      },
      "execution_count": 120,
      "outputs": [
        {
          "output_type": "stream",
          "name": "stdout",
          "text": [
            "{'Bob': 'Reprovado', 'Michel': 'Aprovado', 'Zico': 'Reprovado', 'Ana': 'Aprovado'}\n"
          ]
        }
      ]
    },
    {
      "cell_type": "code",
      "source": [],
      "metadata": {
        "id": "GhvUMQGFJRLU"
      },
      "execution_count": null,
      "outputs": []
    }
  ]
}